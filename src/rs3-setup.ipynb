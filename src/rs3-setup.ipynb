{
 "cells": [
  {
   "cell_type": "code",
   "execution_count": 1,
   "metadata": {},
   "outputs": [
    {
     "name": "stdout",
     "output_type": "stream",
     "text": [
      "Collecting requests\n",
      "  Using cached requests-2.32.3-py3-none-any.whl.metadata (4.6 kB)\n",
      "Requirement already satisfied: charset-normalizer<4,>=2 in c:\\users\\yangs\\documents\\coding\\rspredict\\.venv\\lib\\site-packages (from requests) (3.3.2)\n",
      "Requirement already satisfied: idna<4,>=2.5 in c:\\users\\yangs\\documents\\coding\\rspredict\\.venv\\lib\\site-packages (from requests) (3.7)\n",
      "Collecting urllib3<3,>=1.21.1 (from requests)\n",
      "  Downloading urllib3-2.2.3-py3-none-any.whl.metadata (6.5 kB)\n",
      "Requirement already satisfied: certifi>=2017.4.17 in c:\\users\\yangs\\documents\\coding\\rspredict\\.venv\\lib\\site-packages (from requests) (2024.7.4)\n",
      "Using cached requests-2.32.3-py3-none-any.whl (64 kB)\n",
      "Downloading urllib3-2.2.3-py3-none-any.whl (126 kB)\n",
      "Installing collected packages: urllib3, requests\n",
      "Successfully installed requests-2.32.3 urllib3-2.2.3\n",
      "Note: you may need to restart the kernel to use updated packages.\n"
     ]
    },
    {
     "name": "stderr",
     "output_type": "stream",
     "text": [
      "Error processing line 1 of c:\\Users\\yangs\\Documents\\Coding\\rspredict\\.venv\\Lib\\site-packages\\distutils-precedence.pth:\n",
      "\n",
      "  Traceback (most recent call last):\n",
      "    File \"<frozen site>\", line 206, in addpackage\n",
      "    File \"<string>\", line 1, in <module>\n",
      "  ModuleNotFoundError: No module named '_distutils_hack'\n",
      "\n",
      "Remainder of file ignored\n",
      "Error processing line 1 of c:\\Users\\yangs\\Documents\\Coding\\rspredict\\.venv\\Lib\\site-packages\\distutils-precedence.pth:\n",
      "\n",
      "  Traceback (most recent call last):\n",
      "    File \"<frozen site>\", line 206, in addpackage\n",
      "    File \"<string>\", line 1, in <module>\n",
      "  ModuleNotFoundError: No module named '_distutils_hack'\n",
      "\n",
      "Remainder of file ignored\n"
     ]
    }
   ],
   "source": [
    "%pip install requests"
   ]
  },
  {
   "cell_type": "code",
   "execution_count": 2,
   "metadata": {},
   "outputs": [
    {
     "name": "stdout",
     "output_type": "stream",
     "text": [
      "^C\n",
      "Note: you may need to restart the kernel to use updated packages.\n"
     ]
    },
    {
     "name": "stdout",
     "output_type": "stream",
     "text": [
      "Collecting pandas\n",
      "  Downloading pandas-2.2.3-cp312-cp312-win_amd64.whl.metadata (19 kB)\n",
      "Collecting numpy>=1.26.0 (from pandas)\n",
      "  Using cached numpy-2.1.2-cp312-cp312-win_amd64.whl.metadata (59 kB)\n",
      "Requirement already satisfied: python-dateutil>=2.8.2 in c:\\users\\yangs\\documents\\coding\\rspredict\\.venv\\lib\\site-packages (from pandas) (2.9.0.post0)\n",
      "Collecting pytz>=2020.1 (from pandas)\n",
      "  Downloading pytz-2024.2-py2.py3-none-any.whl.metadata (22 kB)\n",
      "Collecting tzdata>=2022.7 (from pandas)\n",
      "  Downloading tzdata-2024.2-py2.py3-none-any.whl.metadata (1.4 kB)\n",
      "Requirement already satisfied: six>=1.5 in c:\\users\\yangs\\documents\\coding\\rspredict\\.venv\\lib\\site-packages (from python-dateutil>=2.8.2->pandas) (1.16.0)\n",
      "Downloading pandas-2.2.3-cp312-cp312-win_amd64.whl (11.5 MB)\n",
      "   ---------------------------------------- 0.0/11.5 MB ? eta -:--:--\n",
      "   -------------- ------------------------- 4.2/11.5 MB 22.9 MB/s eta 0:00:01\n",
      "   ---------------------------------- ----- 10.0/11.5 MB 23.8 MB/s eta 0:00:01\n",
      "   ---------------------------------------- 11.5/11.5 MB 21.8 MB/s eta 0:00:00\n",
      "Using cached numpy-2.1.2-cp312-cp312-win_amd64.whl (12.6 MB)\n",
      "Downloading pytz-2024.2-py2.py3-none-any.whl (508 kB)\n",
      "Downloading tzdata-2024.2-py2.py3-none-any.whl (346 kB)\n",
      "Installing collected packages: pytz, tzdata, numpy, pandas\n",
      "Successfully installed numpy-2.1.2 pandas-2.2.3 pytz-2024.2 tzdata-2024.2\n"
     ]
    },
    {
     "name": "stderr",
     "output_type": "stream",
     "text": [
      "Error processing line 1 of c:\\Users\\yangs\\Documents\\Coding\\rspredict\\.venv\\Lib\\site-packages\\distutils-precedence.pth:\n",
      "\n",
      "  Traceback (most recent call last):\n",
      "    File \"<frozen site>\", line 206, in addpackage\n",
      "    File \"<string>\", line 1, in <module>\n",
      "  ModuleNotFoundError: No module named '_distutils_hack'\n",
      "\n",
      "Remainder of file ignored\n",
      "Error processing line 1 of c:\\Users\\yangs\\Documents\\Coding\\rspredict\\.venv\\Lib\\site-packages\\distutils-precedence.pth:\n",
      "\n",
      "  Traceback (most recent call last):\n",
      "    File \"<frozen site>\", line 206, in addpackage\n",
      "    File \"<string>\", line 1, in <module>\n",
      "  ModuleNotFoundError: No module named '_distutils_hack'\n",
      "\n",
      "Remainder of file ignored\n"
     ]
    }
   ],
   "source": [
    "%pip install pandas"
   ]
  },
  {
   "cell_type": "code",
   "execution_count": 2,
   "metadata": {},
   "outputs": [
    {
     "name": "stdout",
     "output_type": "stream",
     "text": [
      "Requirement already satisfied: tensorflow in c:\\users\\yangs\\documents\\coding\\rs3-ml\\.venv\\lib\\site-packages (2.17.0)\n",
      "Requirement already satisfied: tensorflow-intel==2.17.0 in c:\\users\\yangs\\documents\\coding\\rs3-ml\\.venv\\lib\\site-packages (from tensorflow) (2.17.0)\n",
      "Requirement already satisfied: absl-py>=1.0.0 in c:\\users\\yangs\\documents\\coding\\rs3-ml\\.venv\\lib\\site-packages (from tensorflow-intel==2.17.0->tensorflow) (2.1.0)\n",
      "Requirement already satisfied: astunparse>=1.6.0 in c:\\users\\yangs\\documents\\coding\\rs3-ml\\.venv\\lib\\site-packages (from tensorflow-intel==2.17.0->tensorflow) (1.6.3)\n",
      "Requirement already satisfied: flatbuffers>=24.3.25 in c:\\users\\yangs\\documents\\coding\\rs3-ml\\.venv\\lib\\site-packages (from tensorflow-intel==2.17.0->tensorflow) (24.3.25)\n",
      "Requirement already satisfied: gast!=0.5.0,!=0.5.1,!=0.5.2,>=0.2.1 in c:\\users\\yangs\\documents\\coding\\rs3-ml\\.venv\\lib\\site-packages (from tensorflow-intel==2.17.0->tensorflow) (0.6.0)\n",
      "Requirement already satisfied: google-pasta>=0.1.1 in c:\\users\\yangs\\documents\\coding\\rs3-ml\\.venv\\lib\\site-packages (from tensorflow-intel==2.17.0->tensorflow) (0.2.0)\n",
      "Requirement already satisfied: h5py>=3.10.0 in c:\\users\\yangs\\documents\\coding\\rs3-ml\\.venv\\lib\\site-packages (from tensorflow-intel==2.17.0->tensorflow) (3.11.0)\n",
      "Requirement already satisfied: libclang>=13.0.0 in c:\\users\\yangs\\documents\\coding\\rs3-ml\\.venv\\lib\\site-packages (from tensorflow-intel==2.17.0->tensorflow) (18.1.1)\n",
      "Requirement already satisfied: ml-dtypes<0.5.0,>=0.3.1 in c:\\users\\yangs\\documents\\coding\\rs3-ml\\.venv\\lib\\site-packages (from tensorflow-intel==2.17.0->tensorflow) (0.4.0)\n",
      "Requirement already satisfied: opt-einsum>=2.3.2 in c:\\users\\yangs\\documents\\coding\\rs3-ml\\.venv\\lib\\site-packages (from tensorflow-intel==2.17.0->tensorflow) (3.3.0)\n",
      "Requirement already satisfied: packaging in c:\\users\\yangs\\documents\\coding\\rs3-ml\\.venv\\lib\\site-packages (from tensorflow-intel==2.17.0->tensorflow) (24.1)\n",
      "Requirement already satisfied: protobuf!=4.21.0,!=4.21.1,!=4.21.2,!=4.21.3,!=4.21.4,!=4.21.5,<5.0.0dev,>=3.20.3 in c:\\users\\yangs\\documents\\coding\\rs3-ml\\.venv\\lib\\site-packages (from tensorflow-intel==2.17.0->tensorflow) (4.25.3)\n",
      "Requirement already satisfied: requests<3,>=2.21.0 in c:\\users\\yangs\\documents\\coding\\rs3-ml\\.venv\\lib\\site-packages (from tensorflow-intel==2.17.0->tensorflow) (2.32.3)\n",
      "Requirement already satisfied: setuptools in c:\\users\\yangs\\documents\\coding\\rs3-ml\\.venv\\lib\\site-packages (from tensorflow-intel==2.17.0->tensorflow) (71.1.0)\n",
      "Requirement already satisfied: six>=1.12.0 in c:\\users\\yangs\\documents\\coding\\rs3-ml\\.venv\\lib\\site-packages (from tensorflow-intel==2.17.0->tensorflow) (1.16.0)\n",
      "Requirement already satisfied: termcolor>=1.1.0 in c:\\users\\yangs\\documents\\coding\\rs3-ml\\.venv\\lib\\site-packages (from tensorflow-intel==2.17.0->tensorflow) (2.4.0)\n",
      "Requirement already satisfied: typing-extensions>=3.6.6 in c:\\users\\yangs\\documents\\coding\\rs3-ml\\.venv\\lib\\site-packages (from tensorflow-intel==2.17.0->tensorflow) (4.12.2)\n",
      "Requirement already satisfied: wrapt>=1.11.0 in c:\\users\\yangs\\documents\\coding\\rs3-ml\\.venv\\lib\\site-packages (from tensorflow-intel==2.17.0->tensorflow) (1.16.0)\n",
      "Requirement already satisfied: grpcio<2.0,>=1.24.3 in c:\\users\\yangs\\documents\\coding\\rs3-ml\\.venv\\lib\\site-packages (from tensorflow-intel==2.17.0->tensorflow) (1.65.1)\n",
      "Requirement already satisfied: tensorboard<2.18,>=2.17 in c:\\users\\yangs\\documents\\coding\\rs3-ml\\.venv\\lib\\site-packages (from tensorflow-intel==2.17.0->tensorflow) (2.17.0)\n",
      "Requirement already satisfied: keras>=3.2.0 in c:\\users\\yangs\\documents\\coding\\rs3-ml\\.venv\\lib\\site-packages (from tensorflow-intel==2.17.0->tensorflow) (3.4.1)\n",
      "Requirement already satisfied: numpy<2.0.0,>=1.26.0 in c:\\users\\yangs\\documents\\coding\\rs3-ml\\.venv\\lib\\site-packages (from tensorflow-intel==2.17.0->tensorflow) (1.26.4)\n",
      "Requirement already satisfied: wheel<1.0,>=0.23.0 in c:\\users\\yangs\\documents\\coding\\rs3-ml\\.venv\\lib\\site-packages (from astunparse>=1.6.0->tensorflow-intel==2.17.0->tensorflow) (0.43.0)\n",
      "Requirement already satisfied: rich in c:\\users\\yangs\\documents\\coding\\rs3-ml\\.venv\\lib\\site-packages (from keras>=3.2.0->tensorflow-intel==2.17.0->tensorflow) (13.7.1)\n",
      "Requirement already satisfied: namex in c:\\users\\yangs\\documents\\coding\\rs3-ml\\.venv\\lib\\site-packages (from keras>=3.2.0->tensorflow-intel==2.17.0->tensorflow) (0.0.8)\n",
      "Requirement already satisfied: optree in c:\\users\\yangs\\documents\\coding\\rs3-ml\\.venv\\lib\\site-packages (from keras>=3.2.0->tensorflow-intel==2.17.0->tensorflow) (0.12.1)\n",
      "Requirement already satisfied: charset-normalizer<4,>=2 in c:\\users\\yangs\\documents\\coding\\rs3-ml\\.venv\\lib\\site-packages (from requests<3,>=2.21.0->tensorflow-intel==2.17.0->tensorflow) (3.3.2)\n",
      "Requirement already satisfied: idna<4,>=2.5 in c:\\users\\yangs\\documents\\coding\\rs3-ml\\.venv\\lib\\site-packages (from requests<3,>=2.21.0->tensorflow-intel==2.17.0->tensorflow) (3.7)\n",
      "Requirement already satisfied: urllib3<3,>=1.21.1 in c:\\users\\yangs\\documents\\coding\\rs3-ml\\.venv\\lib\\site-packages (from requests<3,>=2.21.0->tensorflow-intel==2.17.0->tensorflow) (2.2.2)\n",
      "Requirement already satisfied: certifi>=2017.4.17 in c:\\users\\yangs\\documents\\coding\\rs3-ml\\.venv\\lib\\site-packages (from requests<3,>=2.21.0->tensorflow-intel==2.17.0->tensorflow) (2024.7.4)\n",
      "Requirement already satisfied: markdown>=2.6.8 in c:\\users\\yangs\\documents\\coding\\rs3-ml\\.venv\\lib\\site-packages (from tensorboard<2.18,>=2.17->tensorflow-intel==2.17.0->tensorflow) (3.6)\n",
      "Requirement already satisfied: tensorboard-data-server<0.8.0,>=0.7.0 in c:\\users\\yangs\\documents\\coding\\rs3-ml\\.venv\\lib\\site-packages (from tensorboard<2.18,>=2.17->tensorflow-intel==2.17.0->tensorflow) (0.7.2)\n",
      "Requirement already satisfied: werkzeug>=1.0.1 in c:\\users\\yangs\\documents\\coding\\rs3-ml\\.venv\\lib\\site-packages (from tensorboard<2.18,>=2.17->tensorflow-intel==2.17.0->tensorflow) (3.0.3)\n",
      "Requirement already satisfied: MarkupSafe>=2.1.1 in c:\\users\\yangs\\documents\\coding\\rs3-ml\\.venv\\lib\\site-packages (from werkzeug>=1.0.1->tensorboard<2.18,>=2.17->tensorflow-intel==2.17.0->tensorflow) (2.1.5)\n",
      "Requirement already satisfied: markdown-it-py>=2.2.0 in c:\\users\\yangs\\documents\\coding\\rs3-ml\\.venv\\lib\\site-packages (from rich->keras>=3.2.0->tensorflow-intel==2.17.0->tensorflow) (3.0.0)\n",
      "Requirement already satisfied: pygments<3.0.0,>=2.13.0 in c:\\users\\yangs\\documents\\coding\\rs3-ml\\.venv\\lib\\site-packages (from rich->keras>=3.2.0->tensorflow-intel==2.17.0->tensorflow) (2.18.0)\n",
      "Requirement already satisfied: mdurl~=0.1 in c:\\users\\yangs\\documents\\coding\\rs3-ml\\.venv\\lib\\site-packages (from markdown-it-py>=2.2.0->rich->keras>=3.2.0->tensorflow-intel==2.17.0->tensorflow) (0.1.2)\n",
      "Note: you may need to restart the kernel to use updated packages.\n"
     ]
    }
   ],
   "source": [
    "%pip install tensorflow"
   ]
  },
  {
   "cell_type": "code",
   "execution_count": 1,
   "metadata": {},
   "outputs": [
    {
     "name": "stdout",
     "output_type": "stream",
     "text": [
      "Collecting scikit-learn\n",
      "  Downloading scikit_learn-1.5.1-cp312-cp312-win_amd64.whl.metadata (12 kB)\n",
      "Requirement already satisfied: numpy>=1.19.5 in c:\\users\\yangs\\documents\\coding\\rs3-ml\\.venv\\lib\\site-packages (from scikit-learn) (1.26.4)\n",
      "Collecting scipy>=1.6.0 (from scikit-learn)\n",
      "  Downloading scipy-1.14.0-cp312-cp312-win_amd64.whl.metadata (60 kB)\n",
      "     ---------------------------------------- 0.0/60.8 kB ? eta -:--:--\n",
      "     ---------------------------------------- 60.8/60.8 kB ? eta 0:00:00\n",
      "Collecting joblib>=1.2.0 (from scikit-learn)\n",
      "  Downloading joblib-1.4.2-py3-none-any.whl.metadata (5.4 kB)\n",
      "Collecting threadpoolctl>=3.1.0 (from scikit-learn)\n",
      "  Downloading threadpoolctl-3.5.0-py3-none-any.whl.metadata (13 kB)\n",
      "Downloading scikit_learn-1.5.1-cp312-cp312-win_amd64.whl (10.9 MB)\n",
      "   ---------------------------------------- 0.0/10.9 MB ? eta -:--:--\n",
      "   - -------------------------------------- 0.5/10.9 MB 15.2 MB/s eta 0:00:01\n",
      "   --- ------------------------------------ 0.9/10.9 MB 11.6 MB/s eta 0:00:01\n",
      "   ---- ----------------------------------- 1.3/10.9 MB 10.5 MB/s eta 0:00:01\n",
      "   ----- ---------------------------------- 1.6/10.9 MB 9.4 MB/s eta 0:00:01\n",
      "   ------- -------------------------------- 2.0/10.9 MB 9.2 MB/s eta 0:00:01\n",
      "   -------- ------------------------------- 2.3/10.9 MB 8.7 MB/s eta 0:00:01\n",
      "   --------- ------------------------------ 2.6/10.9 MB 8.4 MB/s eta 0:00:01\n",
      "   ----------- ---------------------------- 3.0/10.9 MB 8.4 MB/s eta 0:00:01\n",
      "   ------------ --------------------------- 3.3/10.9 MB 8.2 MB/s eta 0:00:01\n",
      "   ------------- -------------------------- 3.6/10.9 MB 8.3 MB/s eta 0:00:01\n",
      "   -------------- ------------------------- 3.9/10.9 MB 8.1 MB/s eta 0:00:01\n",
      "   --------------- ------------------------ 4.2/10.9 MB 7.7 MB/s eta 0:00:01\n",
      "   ---------------- ----------------------- 4.5/10.9 MB 7.6 MB/s eta 0:00:01\n",
      "   ----------------- ---------------------- 4.8/10.9 MB 7.7 MB/s eta 0:00:01\n",
      "   ------------------ --------------------- 5.2/10.9 MB 7.6 MB/s eta 0:00:01\n",
      "   ------------------- -------------------- 5.5/10.9 MB 7.6 MB/s eta 0:00:01\n",
      "   --------------------- ------------------ 5.8/10.9 MB 7.6 MB/s eta 0:00:01\n",
      "   ---------------------- ----------------- 6.2/10.9 MB 7.6 MB/s eta 0:00:01\n",
      "   ----------------------- ---------------- 6.6/10.9 MB 7.6 MB/s eta 0:00:01\n",
      "   ------------------------- -------------- 6.9/10.9 MB 7.6 MB/s eta 0:00:01\n",
      "   -------------------------- ------------- 7.4/10.9 MB 7.7 MB/s eta 0:00:01\n",
      "   ---------------------------- ----------- 7.8/10.9 MB 7.8 MB/s eta 0:00:01\n",
      "   ------------------------------ --------- 8.2/10.9 MB 7.9 MB/s eta 0:00:01\n",
      "   ------------------------------- -------- 8.7/10.9 MB 7.9 MB/s eta 0:00:01\n",
      "   --------------------------------- ------ 9.2/10.9 MB 8.0 MB/s eta 0:00:01\n",
      "   ---------------------------------- ----- 9.5/10.9 MB 8.0 MB/s eta 0:00:01\n",
      "   ------------------------------------ --- 10.0/10.9 MB 8.1 MB/s eta 0:00:01\n",
      "   -------------------------------------- - 10.6/10.9 MB 8.1 MB/s eta 0:00:01\n",
      "   ---------------------------------------  10.9/10.9 MB 8.2 MB/s eta 0:00:01\n",
      "   ---------------------------------------- 10.9/10.9 MB 8.0 MB/s eta 0:00:00\n",
      "Downloading joblib-1.4.2-py3-none-any.whl (301 kB)\n",
      "   ---------------------------------------- 0.0/301.8 kB ? eta -:--:--\n",
      "   ---------------------------------------- 301.8/301.8 kB 9.1 MB/s eta 0:00:00\n",
      "Downloading scipy-1.14.0-cp312-cp312-win_amd64.whl (44.5 MB)\n",
      "   ---------------------------------------- 0.0/44.5 MB ? eta -:--:--\n",
      "    --------------------------------------- 0.6/44.5 MB 12.0 MB/s eta 0:00:04\n",
      "   - -------------------------------------- 1.2/44.5 MB 12.2 MB/s eta 0:00:04\n",
      "   - -------------------------------------- 1.7/44.5 MB 12.1 MB/s eta 0:00:04\n",
      "   -- ------------------------------------- 2.3/44.5 MB 13.0 MB/s eta 0:00:04\n",
      "   -- ------------------------------------- 2.8/44.5 MB 12.8 MB/s eta 0:00:04\n",
      "   --- ------------------------------------ 3.5/44.5 MB 13.0 MB/s eta 0:00:04\n",
      "   --- ------------------------------------ 4.0/44.5 MB 12.9 MB/s eta 0:00:04\n",
      "   ---- ----------------------------------- 4.7/44.5 MB 13.1 MB/s eta 0:00:04\n",
      "   ---- ----------------------------------- 5.4/44.5 MB 13.2 MB/s eta 0:00:03\n",
      "   ----- ---------------------------------- 6.0/44.5 MB 13.2 MB/s eta 0:00:03\n",
      "   ------ --------------------------------- 6.7/44.5 MB 13.4 MB/s eta 0:00:03\n",
      "   ------ --------------------------------- 7.4/44.5 MB 13.4 MB/s eta 0:00:03\n",
      "   ------- -------------------------------- 8.1/44.5 MB 13.6 MB/s eta 0:00:03\n",
      "   ------- -------------------------------- 8.8/44.5 MB 13.7 MB/s eta 0:00:03\n",
      "   -------- ------------------------------- 9.5/44.5 MB 13.8 MB/s eta 0:00:03\n",
      "   --------- ------------------------------ 10.2/44.5 MB 13.9 MB/s eta 0:00:03\n",
      "   --------- ------------------------------ 11.1/44.5 MB 14.2 MB/s eta 0:00:03\n",
      "   ---------- ----------------------------- 11.7/44.5 MB 14.6 MB/s eta 0:00:03\n",
      "   ----------- ---------------------------- 12.5/44.5 MB 14.6 MB/s eta 0:00:03\n",
      "   ----------- ---------------------------- 13.3/44.5 MB 15.2 MB/s eta 0:00:03\n",
      "   ------------ --------------------------- 14.2/44.5 MB 15.6 MB/s eta 0:00:02\n",
      "   ------------- -------------------------- 15.0/44.5 MB 16.4 MB/s eta 0:00:02\n",
      "   -------------- ------------------------- 15.9/44.5 MB 16.8 MB/s eta 0:00:02\n",
      "   --------------- ------------------------ 16.8/44.5 MB 17.2 MB/s eta 0:00:02\n",
      "   --------------- ------------------------ 17.7/44.5 MB 17.7 MB/s eta 0:00:02\n",
      "   ---------------- ----------------------- 18.7/44.5 MB 18.2 MB/s eta 0:00:02\n",
      "   ----------------- ---------------------- 19.5/44.5 MB 18.2 MB/s eta 0:00:02\n",
      "   ------------------ --------------------- 20.4/44.5 MB 18.7 MB/s eta 0:00:02\n",
      "   ------------------- -------------------- 21.4/44.5 MB 18.7 MB/s eta 0:00:02\n",
      "   -------------------- ------------------- 22.3/44.5 MB 19.3 MB/s eta 0:00:02\n",
      "   -------------------- ------------------- 23.2/44.5 MB 19.3 MB/s eta 0:00:02\n",
      "   --------------------- ------------------ 24.2/44.5 MB 19.8 MB/s eta 0:00:02\n",
      "   ---------------------- ----------------- 25.1/44.5 MB 19.8 MB/s eta 0:00:01\n",
      "   ----------------------- ---------------- 26.2/44.5 MB 20.5 MB/s eta 0:00:01\n",
      "   ------------------------ --------------- 27.2/44.5 MB 20.5 MB/s eta 0:00:01\n",
      "   ------------------------- -------------- 28.2/44.5 MB 20.5 MB/s eta 0:00:01\n",
      "   -------------------------- ------------- 29.2/44.5 MB 21.1 MB/s eta 0:00:01\n",
      "   --------------------------- ------------ 30.2/44.5 MB 21.1 MB/s eta 0:00:01\n",
      "   ---------------------------- ----------- 31.3/44.5 MB 21.1 MB/s eta 0:00:01\n",
      "   ----------------------------- ---------- 32.3/44.5 MB 21.8 MB/s eta 0:00:01\n",
      "   ------------------------------ --------- 33.4/44.5 MB 21.8 MB/s eta 0:00:01\n",
      "   ------------------------------- -------- 34.6/44.5 MB 21.8 MB/s eta 0:00:01\n",
      "   -------------------------------- ------- 35.6/44.5 MB 22.5 MB/s eta 0:00:01\n",
      "   --------------------------------- ------ 36.8/44.5 MB 23.4 MB/s eta 0:00:01\n",
      "   ---------------------------------- ----- 38.1/44.5 MB 24.2 MB/s eta 0:00:01\n",
      "   ----------------------------------- ---- 39.2/44.5 MB 24.2 MB/s eta 0:00:01\n",
      "   ------------------------------------ --- 40.4/44.5 MB 25.2 MB/s eta 0:00:01\n",
      "   ------------------------------------- -- 41.6/44.5 MB 25.2 MB/s eta 0:00:01\n",
      "   -------------------------------------- - 42.8/44.5 MB 25.2 MB/s eta 0:00:01\n",
      "   ---------------------------------------  43.9/44.5 MB 25.2 MB/s eta 0:00:01\n",
      "   ---------------------------------------  44.5/44.5 MB 26.2 MB/s eta 0:00:01\n",
      "   ---------------------------------------  44.5/44.5 MB 26.2 MB/s eta 0:00:01\n",
      "   ---------------------------------------  44.5/44.5 MB 26.2 MB/s eta 0:00:01\n",
      "   ---------------------------------------- 44.5/44.5 MB 19.3 MB/s eta 0:00:00\n",
      "Downloading threadpoolctl-3.5.0-py3-none-any.whl (18 kB)\n",
      "Installing collected packages: threadpoolctl, scipy, joblib, scikit-learn\n",
      "Successfully installed joblib-1.4.2 scikit-learn-1.5.1 scipy-1.14.0 threadpoolctl-3.5.0\n",
      "Note: you may need to restart the kernel to use updated packages.\n"
     ]
    },
    {
     "name": "stderr",
     "output_type": "stream",
     "text": [
      "\n",
      "[notice] A new release of pip is available: 24.1.2 -> 24.2\n",
      "[notice] To update, run: python.exe -m pip install --upgrade pip\n"
     ]
    }
   ],
   "source": [
    "%pip install scikit-learn"
   ]
  },
  {
   "cell_type": "code",
   "execution_count": 2,
   "metadata": {},
   "outputs": [
    {
     "name": "stdout",
     "output_type": "stream",
     "text": [
      "Collecting matplotlib\n",
      "  Downloading matplotlib-3.9.1-cp312-cp312-win_amd64.whl.metadata (11 kB)\n",
      "Collecting contourpy>=1.0.1 (from matplotlib)\n",
      "  Downloading contourpy-1.2.1-cp312-cp312-win_amd64.whl.metadata (5.8 kB)\n",
      "Collecting cycler>=0.10 (from matplotlib)\n",
      "  Downloading cycler-0.12.1-py3-none-any.whl.metadata (3.8 kB)\n",
      "Collecting fonttools>=4.22.0 (from matplotlib)\n",
      "  Downloading fonttools-4.53.1-cp312-cp312-win_amd64.whl.metadata (165 kB)\n",
      "     ---------------------------------------- 0.0/165.9 kB ? eta -:--:--\n",
      "     -------------------------------------- 165.9/165.9 kB 9.7 MB/s eta 0:00:00\n",
      "Collecting kiwisolver>=1.3.1 (from matplotlib)\n",
      "  Downloading kiwisolver-1.4.5-cp312-cp312-win_amd64.whl.metadata (6.5 kB)\n",
      "Requirement already satisfied: numpy>=1.23 in c:\\users\\yangs\\documents\\coding\\rs3-ml\\.venv\\lib\\site-packages (from matplotlib) (1.26.4)\n",
      "Requirement already satisfied: packaging>=20.0 in c:\\users\\yangs\\documents\\coding\\rs3-ml\\.venv\\lib\\site-packages (from matplotlib) (24.1)\n",
      "Collecting pillow>=8 (from matplotlib)\n",
      "  Downloading pillow-10.4.0-cp312-cp312-win_amd64.whl.metadata (9.3 kB)\n",
      "Collecting pyparsing>=2.3.1 (from matplotlib)\n",
      "  Downloading pyparsing-3.1.2-py3-none-any.whl.metadata (5.1 kB)\n",
      "Requirement already satisfied: python-dateutil>=2.7 in c:\\users\\yangs\\documents\\coding\\rs3-ml\\.venv\\lib\\site-packages (from matplotlib) (2.9.0.post0)\n",
      "Requirement already satisfied: six>=1.5 in c:\\users\\yangs\\documents\\coding\\rs3-ml\\.venv\\lib\\site-packages (from python-dateutil>=2.7->matplotlib) (1.16.0)\n",
      "Downloading matplotlib-3.9.1-cp312-cp312-win_amd64.whl (8.0 MB)\n",
      "   ---------------------------------------- 0.0/8.0 MB ? eta -:--:--\n",
      "   ---- ----------------------------------- 0.9/8.0 MB 18.7 MB/s eta 0:00:01\n",
      "   -------- ------------------------------- 1.7/8.0 MB 18.0 MB/s eta 0:00:01\n",
      "   ---------- ----------------------------- 2.0/8.0 MB 16.1 MB/s eta 0:00:01\n",
      "   ----------- ---------------------------- 2.3/8.0 MB 12.4 MB/s eta 0:00:01\n",
      "   ------------- -------------------------- 2.6/8.0 MB 11.2 MB/s eta 0:00:01\n",
      "   -------------- ------------------------- 2.9/8.0 MB 10.2 MB/s eta 0:00:01\n",
      "   --------------- ------------------------ 3.0/8.0 MB 9.7 MB/s eta 0:00:01\n",
      "   ---------------- ----------------------- 3.2/8.0 MB 8.6 MB/s eta 0:00:01\n",
      "   ----------------- ---------------------- 3.5/8.0 MB 8.3 MB/s eta 0:00:01\n",
      "   ------------------ --------------------- 3.7/8.0 MB 7.9 MB/s eta 0:00:01\n",
      "   -------------------- ------------------- 4.0/8.0 MB 7.8 MB/s eta 0:00:01\n",
      "   --------------------- ------------------ 4.2/8.0 MB 7.7 MB/s eta 0:00:01\n",
      "   ---------------------- ----------------- 4.5/8.0 MB 7.4 MB/s eta 0:00:01\n",
      "   ------------------------ --------------- 4.8/8.0 MB 7.6 MB/s eta 0:00:01\n",
      "   ------------------------- -------------- 5.0/8.0 MB 7.3 MB/s eta 0:00:01\n",
      "   --------------------------- ------------ 5.4/8.0 MB 7.3 MB/s eta 0:00:01\n",
      "   ---------------------------- ----------- 5.7/8.0 MB 7.3 MB/s eta 0:00:01\n",
      "   ----------------------------- ---------- 5.9/8.0 MB 7.1 MB/s eta 0:00:01\n",
      "   ------------------------------- -------- 6.3/8.0 MB 7.2 MB/s eta 0:00:01\n",
      "   --------------------------------- ------ 6.7/8.0 MB 7.2 MB/s eta 0:00:01\n",
      "   ---------------------------------- ----- 6.9/8.0 MB 7.1 MB/s eta 0:00:01\n",
      "   ------------------------------------ --- 7.3/8.0 MB 7.2 MB/s eta 0:00:01\n",
      "   -------------------------------------- - 7.7/8.0 MB 7.3 MB/s eta 0:00:01\n",
      "   ---------------------------------------  8.0/8.0 MB 7.2 MB/s eta 0:00:01\n",
      "   ---------------------------------------- 8.0/8.0 MB 7.1 MB/s eta 0:00:00\n",
      "Downloading contourpy-1.2.1-cp312-cp312-win_amd64.whl (189 kB)\n",
      "   ---------------------------------------- 0.0/189.9 kB ? eta -:--:--\n",
      "   ---------------------------------------- 189.9/189.9 kB 5.6 MB/s eta 0:00:00\n",
      "Downloading cycler-0.12.1-py3-none-any.whl (8.3 kB)\n",
      "Downloading fonttools-4.53.1-cp312-cp312-win_amd64.whl (2.2 MB)\n",
      "   ---------------------------------------- 0.0/2.2 MB ? eta -:--:--\n",
      "   ------- -------------------------------- 0.4/2.2 MB 9.1 MB/s eta 0:00:01\n",
      "   ----------------- ---------------------- 1.0/2.2 MB 10.1 MB/s eta 0:00:01\n",
      "   -------------------- ------------------- 1.1/2.2 MB 8.9 MB/s eta 0:00:01\n",
      "   ------------------------- -------------- 1.4/2.2 MB 7.6 MB/s eta 0:00:01\n",
      "   ----------------------------------- ---- 1.9/2.2 MB 8.2 MB/s eta 0:00:01\n",
      "   ---------------------------------------  2.2/2.2 MB 8.2 MB/s eta 0:00:01\n",
      "   ---------------------------------------- 2.2/2.2 MB 7.4 MB/s eta 0:00:00\n",
      "Downloading kiwisolver-1.4.5-cp312-cp312-win_amd64.whl (56 kB)\n",
      "   ---------------------------------------- 0.0/56.0 kB ? eta -:--:--\n",
      "   ---------------------------------------- 56.0/56.0 kB 2.9 MB/s eta 0:00:00\n",
      "Downloading pillow-10.4.0-cp312-cp312-win_amd64.whl (2.6 MB)\n",
      "   ---------------------------------------- 0.0/2.6 MB ? eta -:--:--\n",
      "   --------- ------------------------------ 0.6/2.6 MB 13.4 MB/s eta 0:00:01\n",
      "   ------------------ --------------------- 1.2/2.6 MB 12.3 MB/s eta 0:00:01\n",
      "   -------------------------- ------------- 1.7/2.6 MB 12.0 MB/s eta 0:00:01\n",
      "   --------------------------------- ------ 2.1/2.6 MB 12.4 MB/s eta 0:00:01\n",
      "   ------------------------------------ --- 2.3/2.6 MB 9.8 MB/s eta 0:00:01\n",
      "   ---------------------------------------- 2.6/2.6 MB 10.2 MB/s eta 0:00:00\n",
      "Downloading pyparsing-3.1.2-py3-none-any.whl (103 kB)\n",
      "   ---------------------------------------- 0.0/103.2 kB ? eta -:--:--\n",
      "   ---------------------------------------- 103.2/103.2 kB 5.8 MB/s eta 0:00:00\n",
      "Installing collected packages: pyparsing, pillow, kiwisolver, fonttools, cycler, contourpy, matplotlib\n",
      "Successfully installed contourpy-1.2.1 cycler-0.12.1 fonttools-4.53.1 kiwisolver-1.4.5 matplotlib-3.9.1 pillow-10.4.0 pyparsing-3.1.2\n",
      "Note: you may need to restart the kernel to use updated packages.\n"
     ]
    },
    {
     "name": "stderr",
     "output_type": "stream",
     "text": [
      "\n",
      "[notice] A new release of pip is available: 24.1.2 -> 24.2\n",
      "[notice] To update, run: python.exe -m pip install --upgrade pip\n"
     ]
    }
   ],
   "source": [
    "%pip install matplotlib"
   ]
  },
  {
   "cell_type": "code",
   "execution_count": 1,
   "metadata": {},
   "outputs": [
    {
     "name": "stdout",
     "output_type": "stream",
     "text": [
      "Collecting progressbar2Note: you may need to restart the kernel to use updated packages.\n",
      "\n",
      "  Downloading progressbar2-4.5.0-py3-none-any.whl.metadata (16 kB)\n",
      "Collecting python-utils>=3.8.1 (from progressbar2)\n",
      "  Downloading python_utils-3.8.2-py2.py3-none-any.whl.metadata (9.7 kB)\n",
      "Requirement already satisfied: typing-extensions>3.10.0.2 in c:\\users\\yangs\\documents\\coding\\rs3-ml\\.venv\\lib\\site-packages (from python-utils>=3.8.1->progressbar2) (4.12.2)\n",
      "Downloading progressbar2-4.5.0-py3-none-any.whl (57 kB)\n",
      "   ---------------------------------------- 0.0/57.1 kB ? eta -:--:--\n",
      "   ---------------------------------------- 57.1/57.1 kB 2.9 MB/s eta 0:00:00\n",
      "Downloading python_utils-3.8.2-py2.py3-none-any.whl (27 kB)\n",
      "Installing collected packages: python-utils, progressbar2\n",
      "Successfully installed progressbar2-4.5.0 python-utils-3.8.2\n"
     ]
    },
    {
     "name": "stderr",
     "output_type": "stream",
     "text": [
      "\n",
      "[notice] A new release of pip is available: 24.1.2 -> 24.2\n",
      "[notice] To update, run: python.exe -m pip install --upgrade pip\n"
     ]
    }
   ],
   "source": [
    "%pip install progressbar2"
   ]
  },
  {
   "cell_type": "code",
   "execution_count": 3,
   "metadata": {},
   "outputs": [],
   "source": [
    "import tensorflow as tf\n",
    "\n"
   ]
  },
  {
   "cell_type": "code",
   "execution_count": 4,
   "metadata": {},
   "outputs": [
    {
     "name": "stdout",
     "output_type": "stream",
     "text": [
      "tf.Tensor(-836.90063, shape=(), dtype=float32)\n"
     ]
    }
   ],
   "source": [
    "print(tf.reduce_sum(tf.random.normal([1000, 1000])))"
   ]
  },
  {
   "cell_type": "code",
   "execution_count": 2,
   "metadata": {},
   "outputs": [
    {
     "name": "stdout",
     "output_type": "stream",
     "text": [
      "Note: you may need to restart the kernel to use updated packages.\n"
     ]
    }
   ],
   "source": [
    "%pip freeze > requirements.txt"
   ]
  },
  {
   "cell_type": "code",
   "execution_count": 1,
   "metadata": {},
   "outputs": [
    {
     "name": "stdout",
     "output_type": "stream",
     "text": [
      "Requirement already satisfied: setuptools in c:\\users\\yangs\\documents\\coding\\rs3-ml\\.venv\\lib\\site-packages (71.1.0)\n",
      "Collecting setuptools\n",
      "  Downloading setuptools-75.1.0-py3-none-any.whl.metadata (6.9 kB)\n",
      "Downloading setuptools-75.1.0-py3-none-any.whl (1.2 MB)\n",
      "   ---------------------------------------- 0.0/1.2 MB ? eta -:--:--\n",
      "   ------------ --------------------------- 0.4/1.2 MB 12.6 MB/s eta 0:00:01\n",
      "   ------------------------------------- -- 1.2/1.2 MB 14.8 MB/s eta 0:00:01\n",
      "   ---------------------------------------- 1.2/1.2 MB 13.2 MB/s eta 0:00:00\n",
      "Installing collected packages: setuptools\n",
      "  Attempting uninstall: setuptools\n",
      "    Found existing installation: setuptools 71.1.0\n",
      "    Uninstalling setuptools-71.1.0:\n",
      "      Successfully uninstalled setuptools-71.1.0\n",
      "Successfully installed setuptools-75.1.0\n",
      "Note: you may need to restart the kernel to use updated packages.\n"
     ]
    },
    {
     "name": "stderr",
     "output_type": "stream",
     "text": [
      "\n",
      "[notice] A new release of pip is available: 24.1.2 -> 24.2\n",
      "[notice] To update, run: python.exe -m pip install --upgrade pip\n"
     ]
    }
   ],
   "source": [
    "%pip install -U setuptools"
   ]
  },
  {
   "cell_type": "code",
   "execution_count": 3,
   "metadata": {},
   "outputs": [
    {
     "name": "stdout",
     "output_type": "stream",
     "text": [
      "Collecting build\n",
      "  Downloading build-1.2.2.post1-py3-none-any.whl.metadata (6.5 kB)\n",
      "Requirement already satisfied: packaging>=19.1 in c:\\users\\yangs\\documents\\coding\\rspredict\\.venv\\lib\\site-packages (from build) (24.1)\n",
      "Collecting pyproject_hooks (from build)\n",
      "  Downloading pyproject_hooks-1.2.0-py3-none-any.whl.metadata (1.3 kB)\n",
      "Requirement already satisfied: colorama in c:\\users\\yangs\\documents\\coding\\rspredict\\.venv\\lib\\site-packages (from build) (0.4.6)\n",
      "Downloading build-1.2.2.post1-py3-none-any.whl (22 kB)\n",
      "Downloading pyproject_hooks-1.2.0-py3-none-any.whl (10 kB)\n",
      "Installing collected packages: pyproject_hooks, build\n",
      "Successfully installed build-1.2.2.post1 pyproject_hooks-1.2.0\n",
      "Note: you may need to restart the kernel to use updated packages.\n"
     ]
    },
    {
     "name": "stderr",
     "output_type": "stream",
     "text": [
      "Error processing line 1 of c:\\Users\\yangs\\Documents\\Coding\\rspredict\\.venv\\Lib\\site-packages\\distutils-precedence.pth:\n",
      "\n",
      "  Traceback (most recent call last):\n",
      "    File \"<frozen site>\", line 206, in addpackage\n",
      "    File \"<string>\", line 1, in <module>\n",
      "  ModuleNotFoundError: No module named '_distutils_hack'\n",
      "\n",
      "Remainder of file ignored\n",
      "Error processing line 1 of c:\\Users\\yangs\\Documents\\Coding\\rspredict\\.venv\\Lib\\site-packages\\distutils-precedence.pth:\n",
      "\n",
      "  Traceback (most recent call last):\n",
      "    File \"<frozen site>\", line 206, in addpackage\n",
      "    File \"<string>\", line 1, in <module>\n",
      "  ModuleNotFoundError: No module named '_distutils_hack'\n",
      "\n",
      "Remainder of file ignored\n"
     ]
    }
   ],
   "source": [
    "%pip install -U build"
   ]
  },
  {
   "cell_type": "code",
   "execution_count": 8,
   "metadata": {},
   "outputs": [
    {
     "name": "stdout",
     "output_type": "stream",
     "text": [
      "Requirement already satisfied: pip in c:\\users\\yangs\\documents\\coding\\rspredict\\.venv\\lib\\site-packages (24.2)Note: you may need to restart the kernel to use updated packages.\n"
     ]
    },
    {
     "name": "stderr",
     "output_type": "stream",
     "text": [
      "Error processing line 1 of c:\\Users\\yangs\\Documents\\Coding\\rspredict\\.venv\\Lib\\site-packages\\distutils-precedence.pth:\n",
      "\n",
      "  Traceback (most recent call last):\n",
      "    File \"<frozen site>\", line 206, in addpackage\n",
      "    File \"<string>\", line 1, in <module>\n",
      "  ModuleNotFoundError: No module named '_distutils_hack'\n",
      "\n",
      "Remainder of file ignored\n",
      "Error processing line 1 of c:\\Users\\yangs\\Documents\\Coding\\rspredict\\.venv\\Lib\\site-packages\\distutils-precedence.pth:\n",
      "\n",
      "  Traceback (most recent call last):\n",
      "    File \"<frozen site>\", line 206, in addpackage\n",
      "    File \"<string>\", line 1, in <module>\n",
      "  ModuleNotFoundError: No module named '_distutils_hack'\n",
      "\n",
      "Remainder of file ignored\n"
     ]
    },
    {
     "name": "stdout",
     "output_type": "stream",
     "text": [
      "\n",
      "Collecting setuptools\n",
      "  Using cached setuptools-75.1.0-py3-none-any.whl.metadata (6.9 kB)\n",
      "Using cached setuptools-75.1.0-py3-none-any.whl (1.2 MB)\n",
      "Installing collected packages: setuptools\n",
      "Successfully installed setuptools-75.1.0\n"
     ]
    }
   ],
   "source": [
    "%pip install -U pip setuptools"
   ]
  },
  {
   "cell_type": "code",
   "execution_count": 10,
   "metadata": {},
   "outputs": [
    {
     "name": "stdout",
     "output_type": "stream",
     "text": [
      "Processing c:\\users\\yangs\\documents\\coding\\rspredict\\src\\dist\\rspredict-0.0.1-py3-none-any.whl\n",
      "Note: you may need to restart the kernel to use updated packages.\n"
     ]
    },
    {
     "name": "stderr",
     "output_type": "stream",
     "text": [
      "WARNING: Requirement 'dist/rspredict-0.0.1-py3-none-any.whl' looks like a filename, but the file does not exist\n",
      "ERROR: Could not install packages due to an OSError: [Errno 2] No such file or directory: 'C:\\\\Users\\\\yangs\\\\Documents\\\\Coding\\\\rspredict\\\\src\\\\dist\\\\rspredict-0.0.1-py3-none-any.whl'\n",
      "\n"
     ]
    }
   ],
   "source": [
    "%pip install dist/rspredict-0.0.1-py3-none-any.whl"
   ]
  },
  {
   "cell_type": "code",
   "execution_count": null,
   "metadata": {},
   "outputs": [],
   "source": []
  },
  {
   "cell_type": "code",
   "execution_count": null,
   "metadata": {},
   "outputs": [],
   "source": []
  }
 ],
 "metadata": {
  "kernelspec": {
   "display_name": ".venv",
   "language": "python",
   "name": "python3"
  },
  "language_info": {
   "codemirror_mode": {
    "name": "ipython",
    "version": 3
   },
   "file_extension": ".py",
   "mimetype": "text/x-python",
   "name": "python",
   "nbconvert_exporter": "python",
   "pygments_lexer": "ipython3",
   "version": "3.12.4"
  }
 },
 "nbformat": 4,
 "nbformat_minor": 2
}
