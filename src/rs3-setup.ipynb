{
 "cells": [
  {
   "cell_type": "code",
   "execution_count": 1,
   "metadata": {},
   "outputs": [
    {
     "name": "stdout",
     "output_type": "stream",
     "text": [
      "Collecting requests\n",
      "  Downloading requests-2.32.3-py3-none-any.whl.metadata (4.6 kB)\n",
      "Collecting charset-normalizer<4,>=2 (from requests)\n",
      "  Downloading charset_normalizer-3.3.2-cp312-cp312-win_amd64.whl.metadata (34 kB)\n",
      "Collecting idna<4,>=2.5 (from requests)\n",
      "  Downloading idna-3.7-py3-none-any.whl.metadata (9.9 kB)\n",
      "Collecting urllib3<3,>=1.21.1 (from requests)\n",
      "  Downloading urllib3-2.2.2-py3-none-any.whl.metadata (6.4 kB)\n",
      "Collecting certifi>=2017.4.17 (from requests)\n",
      "  Downloading certifi-2024.7.4-py3-none-any.whl.metadata (2.2 kB)\n",
      "Downloading requests-2.32.3-py3-none-any.whl (64 kB)\n",
      "   ---------------------------------------- 0.0/64.9 kB ? eta -:--:--\n",
      "   ---------------------------------------- 64.9/64.9 kB 3.4 MB/s eta 0:00:00\n",
      "Downloading certifi-2024.7.4-py3-none-any.whl (162 kB)\n",
      "   ---------------------------------------- 0.0/163.0 kB ? eta -:--:--\n",
      "   ---------------------------------------- 163.0/163.0 kB 4.9 MB/s eta 0:00:00\n",
      "Downloading charset_normalizer-3.3.2-cp312-cp312-win_amd64.whl (100 kB)\n",
      "   ---------------------------------------- 0.0/100.4 kB ? eta -:--:--\n",
      "   ---------------------------------------- 100.4/100.4 kB ? eta 0:00:00\n",
      "Downloading idna-3.7-py3-none-any.whl (66 kB)\n",
      "   ---------------------------------------- 0.0/66.8 kB ? eta -:--:--\n",
      "   ---------------------------------------- 66.8/66.8 kB 3.5 MB/s eta 0:00:00\n",
      "Downloading urllib3-2.2.2-py3-none-any.whl (121 kB)\n",
      "   ---------------------------------------- 0.0/121.4 kB ? eta -:--:--\n",
      "   ---------------------------------------- 121.4/121.4 kB 3.5 MB/s eta 0:00:00\n",
      "Installing collected packages: urllib3, idna, charset-normalizer, certifi, requests\n",
      "Successfully installed certifi-2024.7.4 charset-normalizer-3.3.2 idna-3.7 requests-2.32.3 urllib3-2.2.2\n",
      "Note: you may need to restart the kernel to use updated packages.\n"
     ]
    }
   ],
   "source": [
    "%pip install requests"
   ]
  },
  {
   "cell_type": "code",
   "execution_count": 2,
   "metadata": {},
   "outputs": [
    {
     "name": "stdout",
     "output_type": "stream",
     "text": [
      "Collecting pandas\n",
      "  Downloading pandas-2.2.2-cp312-cp312-win_amd64.whl.metadata (19 kB)\n",
      "Collecting numpy>=1.26.0 (from pandas)\n",
      "  Downloading numpy-2.0.1-cp312-cp312-win_amd64.whl.metadata (60 kB)\n",
      "     ---------------------------------------- 0.0/60.9 kB ? eta -:--:--\n",
      "     ---------------------------------------- 60.9/60.9 kB 3.2 MB/s eta 0:00:00\n",
      "Requirement already satisfied: python-dateutil>=2.8.2 in c:\\users\\yangs\\documents\\coding\\rs3-ml\\.venv\\lib\\site-packages (from pandas) (2.9.0.post0)\n",
      "Collecting pytz>=2020.1 (from pandas)\n",
      "  Downloading pytz-2024.1-py2.py3-none-any.whl.metadata (22 kB)\n",
      "Collecting tzdata>=2022.7 (from pandas)\n",
      "  Downloading tzdata-2024.1-py2.py3-none-any.whl.metadata (1.4 kB)\n",
      "Requirement already satisfied: six>=1.5 in c:\\users\\yangs\\documents\\coding\\rs3-ml\\.venv\\lib\\site-packages (from python-dateutil>=2.8.2->pandas) (1.16.0)\n",
      "Downloading pandas-2.2.2-cp312-cp312-win_amd64.whl (11.5 MB)\n",
      "   ---------------------------------------- 0.0/11.5 MB ? eta -:--:--\n",
      "   -- ------------------------------------- 0.6/11.5 MB 19.2 MB/s eta 0:00:01\n",
      "   --- ------------------------------------ 1.1/11.5 MB 12.0 MB/s eta 0:00:01\n",
      "   ----- ---------------------------------- 1.6/11.5 MB 11.0 MB/s eta 0:00:01\n",
      "   ------ --------------------------------- 1.9/11.5 MB 10.8 MB/s eta 0:00:01\n",
      "   ------- -------------------------------- 2.2/11.5 MB 9.2 MB/s eta 0:00:02\n",
      "   -------- ------------------------------- 2.5/11.5 MB 8.8 MB/s eta 0:00:02\n",
      "   --------- ------------------------------ 2.8/11.5 MB 8.9 MB/s eta 0:00:01\n",
      "   ---------- ----------------------------- 3.1/11.5 MB 8.5 MB/s eta 0:00:01\n",
      "   ----------- ---------------------------- 3.3/11.5 MB 8.1 MB/s eta 0:00:02\n",
      "   ------------ --------------------------- 3.6/11.5 MB 7.8 MB/s eta 0:00:02\n",
      "   ------------- -------------------------- 3.9/11.5 MB 7.7 MB/s eta 0:00:01\n",
      "   -------------- ------------------------- 4.2/11.5 MB 7.6 MB/s eta 0:00:01\n",
      "   --------------- ------------------------ 4.5/11.5 MB 7.5 MB/s eta 0:00:01\n",
      "   ---------------- ----------------------- 4.8/11.5 MB 7.4 MB/s eta 0:00:01\n",
      "   ----------------- ---------------------- 5.1/11.5 MB 7.4 MB/s eta 0:00:01\n",
      "   ------------------- -------------------- 5.5/11.5 MB 7.5 MB/s eta 0:00:01\n",
      "   -------------------- ------------------- 5.8/11.5 MB 7.4 MB/s eta 0:00:01\n",
      "   --------------------- ------------------ 6.2/11.5 MB 7.5 MB/s eta 0:00:01\n",
      "   ---------------------- ----------------- 6.6/11.5 MB 7.5 MB/s eta 0:00:01\n",
      "   ------------------------ --------------- 6.9/11.5 MB 7.5 MB/s eta 0:00:01\n",
      "   ------------------------- -------------- 7.4/11.5 MB 7.6 MB/s eta 0:00:01\n",
      "   --------------------------- ------------ 7.8/11.5 MB 7.6 MB/s eta 0:00:01\n",
      "   ---------------------------- ----------- 8.2/11.5 MB 7.7 MB/s eta 0:00:01\n",
      "   ------------------------------ --------- 8.7/11.5 MB 7.9 MB/s eta 0:00:01\n",
      "   -------------------------------- ------- 9.2/11.5 MB 8.0 MB/s eta 0:00:01\n",
      "   --------------------------------- ------ 9.7/11.5 MB 8.1 MB/s eta 0:00:01\n",
      "   ----------------------------------- ---- 10.2/11.5 MB 8.3 MB/s eta 0:00:01\n",
      "   ------------------------------------ --- 10.6/11.5 MB 8.0 MB/s eta 0:00:01\n",
      "   -------------------------------------- - 11.1/11.5 MB 8.1 MB/s eta 0:00:01\n",
      "   ---------------------------------------  11.5/11.5 MB 8.2 MB/s eta 0:00:01\n",
      "   ---------------------------------------- 11.5/11.5 MB 8.0 MB/s eta 0:00:00\n",
      "Downloading numpy-2.0.1-cp312-cp312-win_amd64.whl (16.3 MB)\n",
      "   ---------------------------------------- 0.0/16.3 MB ? eta -:--:--\n",
      "   - -------------------------------------- 0.7/16.3 MB 20.2 MB/s eta 0:00:01\n",
      "   -- ------------------------------------- 1.2/16.3 MB 15.4 MB/s eta 0:00:01\n",
      "   ---- ----------------------------------- 1.8/16.3 MB 14.5 MB/s eta 0:00:01\n",
      "   ------ --------------------------------- 2.5/16.3 MB 14.3 MB/s eta 0:00:01\n",
      "   ------- -------------------------------- 3.1/16.3 MB 13.9 MB/s eta 0:00:01\n",
      "   -------- ------------------------------- 3.6/16.3 MB 13.6 MB/s eta 0:00:01\n",
      "   ---------- ----------------------------- 4.3/16.3 MB 13.8 MB/s eta 0:00:01\n",
      "   ------------ --------------------------- 5.0/16.3 MB 13.9 MB/s eta 0:00:01\n",
      "   ------------- -------------------------- 5.6/16.3 MB 13.8 MB/s eta 0:00:01\n",
      "   --------------- ------------------------ 6.4/16.3 MB 14.0 MB/s eta 0:00:01\n",
      "   ----------------- ---------------------- 7.1/16.3 MB 14.2 MB/s eta 0:00:01\n",
      "   ------------------- -------------------- 7.8/16.3 MB 14.3 MB/s eta 0:00:01\n",
      "   --------------------- ------------------ 8.6/16.3 MB 14.4 MB/s eta 0:00:01\n",
      "   ----------------------- ---------------- 9.4/16.3 MB 14.6 MB/s eta 0:00:01\n",
      "   ------------------------- -------------- 10.2/16.3 MB 14.8 MB/s eta 0:00:01\n",
      "   -------------------------- ------------- 11.0/16.3 MB 14.9 MB/s eta 0:00:01\n",
      "   ---------------------------- ----------- 11.7/16.3 MB 15.2 MB/s eta 0:00:01\n",
      "   ------------------------------- -------- 12.6/16.3 MB 15.6 MB/s eta 0:00:01\n",
      "   -------------------------------- ------- 13.4/16.3 MB 16.0 MB/s eta 0:00:01\n",
      "   ---------------------------------- ----- 14.2/16.3 MB 16.8 MB/s eta 0:00:01\n",
      "   ------------------------------------- -- 15.2/16.3 MB 16.8 MB/s eta 0:00:01\n",
      "   ---------------------------------------  16.0/16.3 MB 17.2 MB/s eta 0:00:01\n",
      "   ---------------------------------------  16.3/16.3 MB 17.2 MB/s eta 0:00:01\n",
      "   ---------------------------------------  16.3/16.3 MB 17.2 MB/s eta 0:00:01\n",
      "   ---------------------------------------  16.3/16.3 MB 17.2 MB/s eta 0:00:01\n",
      "   ---------------------------------------  16.3/16.3 MB 17.2 MB/s eta 0:00:01\n",
      "   ---------------------------------------  16.3/16.3 MB 17.2 MB/s eta 0:00:01\n",
      "   ---------------------------------------  16.3/16.3 MB 17.2 MB/s eta 0:00:01\n",
      "   ---------------------------------------  16.3/16.3 MB 17.2 MB/s eta 0:00:01\n",
      "   ---------------------------------------  16.3/16.3 MB 17.2 MB/s eta 0:00:01\n",
      "   ---------------------------------------  16.3/16.3 MB 17.2 MB/s eta 0:00:01\n",
      "   ---------------------------------------  16.3/16.3 MB 17.2 MB/s eta 0:00:01\n",
      "   ---------------------------------------  16.3/16.3 MB 17.2 MB/s eta 0:00:01\n",
      "   ---------------------------------------  16.3/16.3 MB 17.2 MB/s eta 0:00:01\n",
      "   ---------------------------------------  16.3/16.3 MB 17.2 MB/s eta 0:00:01\n",
      "   ---------------------------------------  16.3/16.3 MB 17.2 MB/s eta 0:00:01\n",
      "   ---------------------------------------  16.3/16.3 MB 17.2 MB/s eta 0:00:01\n",
      "   ---------------------------------------  16.3/16.3 MB 17.2 MB/s eta 0:00:01\n",
      "   ---------------------------------------- 16.3/16.3 MB 7.5 MB/s eta 0:00:00\n",
      "Downloading pytz-2024.1-py2.py3-none-any.whl (505 kB)\n",
      "   ---------------------------------------- 0.0/505.5 kB ? eta -:--:--\n",
      "   --------------------------------------  501.8/505.5 kB 32.8 MB/s eta 0:00:01\n",
      "   --------------------------------------  501.8/505.5 kB 32.8 MB/s eta 0:00:01\n",
      "   --------------------------------------  501.8/505.5 kB 32.8 MB/s eta 0:00:01\n",
      "   --------------------------------------  501.8/505.5 kB 32.8 MB/s eta 0:00:01\n",
      "   ---------------------------------------- 505.5/505.5 kB 2.1 MB/s eta 0:00:00\n",
      "Downloading tzdata-2024.1-py2.py3-none-any.whl (345 kB)\n",
      "   ---------------------------------------- 0.0/345.4 kB ? eta -:--:--\n",
      "   --------------------------------------  337.9/345.4 kB 21.8 MB/s eta 0:00:01\n",
      "   ---------------------------------------- 345.4/345.4 kB 5.4 MB/s eta 0:00:00\n",
      "Installing collected packages: pytz, tzdata, numpy, pandas\n",
      "Successfully installed numpy-2.0.1 pandas-2.2.2 pytz-2024.1 tzdata-2024.1\n",
      "Note: you may need to restart the kernel to use updated packages.\n"
     ]
    }
   ],
   "source": [
    "%pip install pandas"
   ]
  },
  {
   "cell_type": "code",
   "execution_count": 2,
   "metadata": {},
   "outputs": [
    {
     "name": "stdout",
     "output_type": "stream",
     "text": [
      "Requirement already satisfied: tensorflow in c:\\users\\yangs\\documents\\coding\\rs3-ml\\.venv\\lib\\site-packages (2.17.0)\n",
      "Requirement already satisfied: tensorflow-intel==2.17.0 in c:\\users\\yangs\\documents\\coding\\rs3-ml\\.venv\\lib\\site-packages (from tensorflow) (2.17.0)\n",
      "Requirement already satisfied: absl-py>=1.0.0 in c:\\users\\yangs\\documents\\coding\\rs3-ml\\.venv\\lib\\site-packages (from tensorflow-intel==2.17.0->tensorflow) (2.1.0)\n",
      "Requirement already satisfied: astunparse>=1.6.0 in c:\\users\\yangs\\documents\\coding\\rs3-ml\\.venv\\lib\\site-packages (from tensorflow-intel==2.17.0->tensorflow) (1.6.3)\n",
      "Requirement already satisfied: flatbuffers>=24.3.25 in c:\\users\\yangs\\documents\\coding\\rs3-ml\\.venv\\lib\\site-packages (from tensorflow-intel==2.17.0->tensorflow) (24.3.25)\n",
      "Requirement already satisfied: gast!=0.5.0,!=0.5.1,!=0.5.2,>=0.2.1 in c:\\users\\yangs\\documents\\coding\\rs3-ml\\.venv\\lib\\site-packages (from tensorflow-intel==2.17.0->tensorflow) (0.6.0)\n",
      "Requirement already satisfied: google-pasta>=0.1.1 in c:\\users\\yangs\\documents\\coding\\rs3-ml\\.venv\\lib\\site-packages (from tensorflow-intel==2.17.0->tensorflow) (0.2.0)\n",
      "Requirement already satisfied: h5py>=3.10.0 in c:\\users\\yangs\\documents\\coding\\rs3-ml\\.venv\\lib\\site-packages (from tensorflow-intel==2.17.0->tensorflow) (3.11.0)\n",
      "Requirement already satisfied: libclang>=13.0.0 in c:\\users\\yangs\\documents\\coding\\rs3-ml\\.venv\\lib\\site-packages (from tensorflow-intel==2.17.0->tensorflow) (18.1.1)\n",
      "Requirement already satisfied: ml-dtypes<0.5.0,>=0.3.1 in c:\\users\\yangs\\documents\\coding\\rs3-ml\\.venv\\lib\\site-packages (from tensorflow-intel==2.17.0->tensorflow) (0.4.0)\n",
      "Requirement already satisfied: opt-einsum>=2.3.2 in c:\\users\\yangs\\documents\\coding\\rs3-ml\\.venv\\lib\\site-packages (from tensorflow-intel==2.17.0->tensorflow) (3.3.0)\n",
      "Requirement already satisfied: packaging in c:\\users\\yangs\\documents\\coding\\rs3-ml\\.venv\\lib\\site-packages (from tensorflow-intel==2.17.0->tensorflow) (24.1)\n",
      "Requirement already satisfied: protobuf!=4.21.0,!=4.21.1,!=4.21.2,!=4.21.3,!=4.21.4,!=4.21.5,<5.0.0dev,>=3.20.3 in c:\\users\\yangs\\documents\\coding\\rs3-ml\\.venv\\lib\\site-packages (from tensorflow-intel==2.17.0->tensorflow) (4.25.3)\n",
      "Requirement already satisfied: requests<3,>=2.21.0 in c:\\users\\yangs\\documents\\coding\\rs3-ml\\.venv\\lib\\site-packages (from tensorflow-intel==2.17.0->tensorflow) (2.32.3)\n",
      "Requirement already satisfied: setuptools in c:\\users\\yangs\\documents\\coding\\rs3-ml\\.venv\\lib\\site-packages (from tensorflow-intel==2.17.0->tensorflow) (71.1.0)\n",
      "Requirement already satisfied: six>=1.12.0 in c:\\users\\yangs\\documents\\coding\\rs3-ml\\.venv\\lib\\site-packages (from tensorflow-intel==2.17.0->tensorflow) (1.16.0)\n",
      "Requirement already satisfied: termcolor>=1.1.0 in c:\\users\\yangs\\documents\\coding\\rs3-ml\\.venv\\lib\\site-packages (from tensorflow-intel==2.17.0->tensorflow) (2.4.0)\n",
      "Requirement already satisfied: typing-extensions>=3.6.6 in c:\\users\\yangs\\documents\\coding\\rs3-ml\\.venv\\lib\\site-packages (from tensorflow-intel==2.17.0->tensorflow) (4.12.2)\n",
      "Requirement already satisfied: wrapt>=1.11.0 in c:\\users\\yangs\\documents\\coding\\rs3-ml\\.venv\\lib\\site-packages (from tensorflow-intel==2.17.0->tensorflow) (1.16.0)\n",
      "Requirement already satisfied: grpcio<2.0,>=1.24.3 in c:\\users\\yangs\\documents\\coding\\rs3-ml\\.venv\\lib\\site-packages (from tensorflow-intel==2.17.0->tensorflow) (1.65.1)\n",
      "Requirement already satisfied: tensorboard<2.18,>=2.17 in c:\\users\\yangs\\documents\\coding\\rs3-ml\\.venv\\lib\\site-packages (from tensorflow-intel==2.17.0->tensorflow) (2.17.0)\n",
      "Requirement already satisfied: keras>=3.2.0 in c:\\users\\yangs\\documents\\coding\\rs3-ml\\.venv\\lib\\site-packages (from tensorflow-intel==2.17.0->tensorflow) (3.4.1)\n",
      "Requirement already satisfied: numpy<2.0.0,>=1.26.0 in c:\\users\\yangs\\documents\\coding\\rs3-ml\\.venv\\lib\\site-packages (from tensorflow-intel==2.17.0->tensorflow) (1.26.4)\n",
      "Requirement already satisfied: wheel<1.0,>=0.23.0 in c:\\users\\yangs\\documents\\coding\\rs3-ml\\.venv\\lib\\site-packages (from astunparse>=1.6.0->tensorflow-intel==2.17.0->tensorflow) (0.43.0)\n",
      "Requirement already satisfied: rich in c:\\users\\yangs\\documents\\coding\\rs3-ml\\.venv\\lib\\site-packages (from keras>=3.2.0->tensorflow-intel==2.17.0->tensorflow) (13.7.1)\n",
      "Requirement already satisfied: namex in c:\\users\\yangs\\documents\\coding\\rs3-ml\\.venv\\lib\\site-packages (from keras>=3.2.0->tensorflow-intel==2.17.0->tensorflow) (0.0.8)\n",
      "Requirement already satisfied: optree in c:\\users\\yangs\\documents\\coding\\rs3-ml\\.venv\\lib\\site-packages (from keras>=3.2.0->tensorflow-intel==2.17.0->tensorflow) (0.12.1)\n",
      "Requirement already satisfied: charset-normalizer<4,>=2 in c:\\users\\yangs\\documents\\coding\\rs3-ml\\.venv\\lib\\site-packages (from requests<3,>=2.21.0->tensorflow-intel==2.17.0->tensorflow) (3.3.2)\n",
      "Requirement already satisfied: idna<4,>=2.5 in c:\\users\\yangs\\documents\\coding\\rs3-ml\\.venv\\lib\\site-packages (from requests<3,>=2.21.0->tensorflow-intel==2.17.0->tensorflow) (3.7)\n",
      "Requirement already satisfied: urllib3<3,>=1.21.1 in c:\\users\\yangs\\documents\\coding\\rs3-ml\\.venv\\lib\\site-packages (from requests<3,>=2.21.0->tensorflow-intel==2.17.0->tensorflow) (2.2.2)\n",
      "Requirement already satisfied: certifi>=2017.4.17 in c:\\users\\yangs\\documents\\coding\\rs3-ml\\.venv\\lib\\site-packages (from requests<3,>=2.21.0->tensorflow-intel==2.17.0->tensorflow) (2024.7.4)\n",
      "Requirement already satisfied: markdown>=2.6.8 in c:\\users\\yangs\\documents\\coding\\rs3-ml\\.venv\\lib\\site-packages (from tensorboard<2.18,>=2.17->tensorflow-intel==2.17.0->tensorflow) (3.6)\n",
      "Requirement already satisfied: tensorboard-data-server<0.8.0,>=0.7.0 in c:\\users\\yangs\\documents\\coding\\rs3-ml\\.venv\\lib\\site-packages (from tensorboard<2.18,>=2.17->tensorflow-intel==2.17.0->tensorflow) (0.7.2)\n",
      "Requirement already satisfied: werkzeug>=1.0.1 in c:\\users\\yangs\\documents\\coding\\rs3-ml\\.venv\\lib\\site-packages (from tensorboard<2.18,>=2.17->tensorflow-intel==2.17.0->tensorflow) (3.0.3)\n",
      "Requirement already satisfied: MarkupSafe>=2.1.1 in c:\\users\\yangs\\documents\\coding\\rs3-ml\\.venv\\lib\\site-packages (from werkzeug>=1.0.1->tensorboard<2.18,>=2.17->tensorflow-intel==2.17.0->tensorflow) (2.1.5)\n",
      "Requirement already satisfied: markdown-it-py>=2.2.0 in c:\\users\\yangs\\documents\\coding\\rs3-ml\\.venv\\lib\\site-packages (from rich->keras>=3.2.0->tensorflow-intel==2.17.0->tensorflow) (3.0.0)\n",
      "Requirement already satisfied: pygments<3.0.0,>=2.13.0 in c:\\users\\yangs\\documents\\coding\\rs3-ml\\.venv\\lib\\site-packages (from rich->keras>=3.2.0->tensorflow-intel==2.17.0->tensorflow) (2.18.0)\n",
      "Requirement already satisfied: mdurl~=0.1 in c:\\users\\yangs\\documents\\coding\\rs3-ml\\.venv\\lib\\site-packages (from markdown-it-py>=2.2.0->rich->keras>=3.2.0->tensorflow-intel==2.17.0->tensorflow) (0.1.2)\n",
      "Note: you may need to restart the kernel to use updated packages.\n"
     ]
    }
   ],
   "source": [
    "%pip install tensorflow"
   ]
  },
  {
   "cell_type": "code",
   "execution_count": 3,
   "metadata": {},
   "outputs": [],
   "source": [
    "import tensorflow as tf\n",
    "\n"
   ]
  },
  {
   "cell_type": "code",
   "execution_count": 4,
   "metadata": {},
   "outputs": [
    {
     "name": "stdout",
     "output_type": "stream",
     "text": [
      "tf.Tensor(-836.90063, shape=(), dtype=float32)\n"
     ]
    }
   ],
   "source": [
    "print(tf.reduce_sum(tf.random.normal([1000, 1000])))"
   ]
  },
  {
   "cell_type": "code",
   "execution_count": 5,
   "metadata": {},
   "outputs": [
    {
     "name": "stdout",
     "output_type": "stream",
     "text": [
      "Note: you may need to restart the kernel to use updated packages.\n"
     ]
    }
   ],
   "source": [
    "%pip freeze > requirements.txt"
   ]
  },
  {
   "cell_type": "code",
   "execution_count": null,
   "metadata": {},
   "outputs": [],
   "source": []
  }
 ],
 "metadata": {
  "kernelspec": {
   "display_name": ".venv",
   "language": "python",
   "name": "python3"
  },
  "language_info": {
   "codemirror_mode": {
    "name": "ipython",
    "version": 3
   },
   "file_extension": ".py",
   "mimetype": "text/x-python",
   "name": "python",
   "nbconvert_exporter": "python",
   "pygments_lexer": "ipython3",
   "version": "3.12.4"
  }
 },
 "nbformat": 4,
 "nbformat_minor": 2
}
