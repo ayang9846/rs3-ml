{
 "cells": [
  {
   "cell_type": "markdown",
   "metadata": {},
   "source": [
    "# **About**\n",
    "\n",
    "|Section|Details|\n",
    "|---|---|\n",
    "|Script|rs3-request-data|\n",
    "|Description|rs3-request-data is used to retrieve historical price data for items in Runescape 3. This data will be transformed to predict future item prices.|\n",
    "|Author|Andrew Yang|"
   ]
  },
  {
   "cell_type": "markdown",
   "metadata": {},
   "source": [
    "# **Setup**"
   ]
  },
  {
   "cell_type": "code",
   "execution_count": 153,
   "metadata": {},
   "outputs": [],
   "source": [
    "import requests # use to retrieve data from API\n",
    "import math\n",
    "import pandas as pd\n",
    "import datetime as datetime\n",
    "import os"
   ]
  },
  {
   "cell_type": "code",
   "execution_count": 112,
   "metadata": {},
   "outputs": [],
   "source": [
    "# Global var for debugging\n",
    "show_debug = True\n",
    "\n",
    "# Global vars for Weird Gloop API\n",
    "game_base = \"rs\" # API can have two options: rs (Runescape 3) or osrs (Old School Runescape)\n",
    "data_filter = \"all\" # API has three options: all (all price data), last90d (last 90 days), and sample\n",
    "\n",
    "# Determine which item category we are interested in.\n",
    "# See the following link for all item categories (https://runescape.wiki/w/Application_programming_interface#category).\n",
    "item_category = 13 "
   ]
  },
  {
   "cell_type": "markdown",
   "metadata": {},
   "source": [
    "# **Data Gathering**"
   ]
  },
  {
   "cell_type": "markdown",
   "metadata": {},
   "source": [
    "##  Retrieve items by category"
   ]
  },
  {
   "cell_type": "markdown",
   "metadata": {},
   "source": [
    "### Get item categories"
   ]
  },
  {
   "cell_type": "code",
   "execution_count": 61,
   "metadata": {},
   "outputs": [
    {
     "name": "stdout",
     "output_type": "stream",
     "text": [
      "All category ids: [0, 1, 2, 3, 4, 5, 6, 7, 8, 9, 10, 11, 12, 13, 14, 15, 16, 17, 18, 19, 20, 21, 22, 23, 24, 25, 26, 27, 28, 29, 30, 31, 32, 33, 34, 35, 36, 37, 38, 39, 40, 41, 42, 43]\n"
     ]
    }
   ],
   "source": [
    "# See the following link for a description of all item categories (https://runescape.wiki/w/Application_programming_interface#category).\n",
    "# i.e. 0 = Miscellaneous; 7 = Costumes; 13 = Herblore materials \n",
    "category_ids = range(0, 44, 1)\n",
    "print(f\"All category ids: {list(category_ids)}\")"
   ]
  },
  {
   "cell_type": "markdown",
   "metadata": {},
   "source": [
    "### Retrieve items in category"
   ]
  },
  {
   "cell_type": "code",
   "execution_count": 66,
   "metadata": {},
   "outputs": [
    {
     "name": "stdout",
     "output_type": "stream",
     "text": [
      "200\n"
     ]
    }
   ],
   "source": [
    "# Grabs a list of dictionaries that show how many items are under each \"alpha\" (i.e. character)\n",
    "request_category_base = \"https://services.runescape.com/m=itemdb_rs/api/catalogue/category.json?\"\n",
    "r_category = requests.get(request_category_base, params = {\"category\": item_category})\n",
    "print(r_category.status_code)"
   ]
  },
  {
   "cell_type": "code",
   "execution_count": 104,
   "metadata": {},
   "outputs": [
    {
     "name": "stdout",
     "output_type": "stream",
     "text": [
      "Item alpha dict: \n"
     ]
    },
    {
     "data": {
      "text/plain": [
       "[{'letter': '#', 'items': 0},\n",
       " {'letter': 'a', 'items': 6},\n",
       " {'letter': 'b', 'items': 7},\n",
       " {'letter': 'c', 'items': 32},\n",
       " {'letter': 'd', 'items': 5},\n",
       " {'letter': 'e', 'items': 1},\n",
       " {'letter': 'f', 'items': 2},\n",
       " {'letter': 'g', 'items': 29},\n",
       " {'letter': 'h', 'items': 2},\n",
       " {'letter': 'i', 'items': 2},\n",
       " {'letter': 'j', 'items': 3},\n",
       " {'letter': 'k', 'items': 2},\n",
       " {'letter': 'l', 'items': 6},\n",
       " {'letter': 'm', 'items': 13},\n",
       " {'letter': 'n', 'items': 1},\n",
       " {'letter': 'o', 'items': 0},\n",
       " {'letter': 'p', 'items': 6},\n",
       " {'letter': 'q', 'items': 0},\n",
       " {'letter': 'r', 'items': 5},\n",
       " {'letter': 's', 'items': 12},\n",
       " {'letter': 't', 'items': 5},\n",
       " {'letter': 'u', 'items': 2},\n",
       " {'letter': 'v', 'items': 3},\n",
       " {'letter': 'w', 'items': 6},\n",
       " {'letter': 'x', 'items': 0},\n",
       " {'letter': 'y', 'items': 2},\n",
       " {'letter': 'z', 'items': 1}]"
      ]
     },
     "metadata": {},
     "output_type": "display_data"
    }
   ],
   "source": [
    "category_alpha_dict = r_category.json()[\"alpha\"]\n",
    "\n",
    "# print(f\"Item alpha dict: \")\n",
    "# display(category_alpha_dict)"
   ]
  },
  {
   "cell_type": "code",
   "execution_count": 94,
   "metadata": {},
   "outputs": [],
   "source": [
    "# Define API endpoint for getting item info.\n",
    "request_items_base = \"https://services.runescape.com/m=itemdb_rs/api/catalogue/items.json?\"\n",
    "\n",
    "def get_item_details(req_category, req_alpha, req_page):\n",
    "    r_items = requests.get(request_items_base, params = {\"category\": req_category, \"alpha\": req_alpha, \"page\": req_page})\n",
    "    if show_debug:\n",
    "        print(f\"Status of item category|alpha|page ({req_category}|{req_alpha}|{req_page}): {r_items.status_code}\")\n",
    "    return r_items"
   ]
  },
  {
   "cell_type": "code",
   "execution_count": 99,
   "metadata": {},
   "outputs": [],
   "source": [
    "item_dict_list = {}\n",
    "\n",
    "# Add entries to a dictionary linking an item id to item name.\n",
    "def get_item_id(item_request):\n",
    "    for item in item_request.json()[\"items\"]:\n",
    "        item_dict_list[item[\"id\"]] = item[\"name\"]"
   ]
  },
  {
   "cell_type": "code",
   "execution_count": 101,
   "metadata": {},
   "outputs": [
    {
     "name": "stdout",
     "output_type": "stream",
     "text": [
      "Status of item category|alpha|page (13|a|1): 200\n",
      "Status of item category|alpha|page (13|b|1): 200\n",
      "Status of item category|alpha|page (13|c|1): 200\n",
      "Status of item category|alpha|page (13|c|2): 200\n",
      "Status of item category|alpha|page (13|c|3): 200\n",
      "Status of item category|alpha|page (13|d|1): 200\n",
      "Status of item category|alpha|page (13|e|1): 200\n",
      "Status of item category|alpha|page (13|f|1): 200\n",
      "Status of item category|alpha|page (13|g|1): 200\n",
      "Status of item category|alpha|page (13|g|2): 200\n",
      "Status of item category|alpha|page (13|g|3): 200\n",
      "Status of item category|alpha|page (13|h|1): 200\n",
      "Status of item category|alpha|page (13|i|1): 200\n",
      "Status of item category|alpha|page (13|j|1): 200\n",
      "Status of item category|alpha|page (13|k|1): 200\n",
      "Status of item category|alpha|page (13|l|1): 200\n",
      "Status of item category|alpha|page (13|m|1): 200\n",
      "Status of item category|alpha|page (13|m|2): 200\n",
      "Status of item category|alpha|page (13|n|1): 200\n",
      "Status of item category|alpha|page (13|p|1): 200\n",
      "Status of item category|alpha|page (13|r|1): 200\n",
      "Status of item category|alpha|page (13|s|1): 200\n",
      "Status of item category|alpha|page (13|t|1): 200\n",
      "Status of item category|alpha|page (13|u|1): 200\n",
      "Status of item category|alpha|page (13|v|1): 200\n",
      "Status of item category|alpha|page (13|w|1): 200\n",
      "Status of item category|alpha|page (13|y|1): 200\n",
      "Status of item category|alpha|page (13|z|1): 200\n"
     ]
    }
   ],
   "source": [
    "for a in category_alpha_dict:\n",
    "    if a[\"items\"] <= 0: \n",
    "        continue\n",
    "    \n",
    "    req_requests =  math.ceil(a[\"items\"] / 12) # Determines the # of times to request the API for all items.\n",
    "    for page in range(1, req_requests + 1, 1):\n",
    "        get_item_id(get_item_details(item_category, a[\"letter\"], page))"
   ]
  },
  {
   "cell_type": "code",
   "execution_count": 109,
   "metadata": {},
   "outputs": [
    {
     "name": "stdout",
     "output_type": "stream",
     "text": [
      "Item id dictionary (153 entries):\n"
     ]
    },
    {
     "data": {
      "text/plain": [
       "{52937: 'Abyssal flesh',\n",
       " 39067: 'Adrenaline crystal',\n",
       " 48241: 'Arbuck potion (unf)',\n",
       " 592: 'Ashes',\n",
       " 103: 'Avantoe potion (unf)',\n",
       " 48578: 'Avocado',\n",
       " 48925: 'Beak snot',\n",
       " 37973: 'Bloodweed potion (unf)',\n",
       " 243: 'Blue dragon scale',\n",
       " 48961: 'Bomb vial',\n",
       " 48926: 'Bottled dinosaur roar',\n",
       " 4456: 'Bowl of hot water',\n",
       " 43993: 'Bull horns',\n",
       " 6016: 'Cactus spine',\n",
       " 107: 'Cadantine potion (unf)',\n",
       " 48586: 'Carambola',\n",
       " 11326: 'Caviar',\n",
       " 43973: 'Chinchompa residue',\n",
       " 48584: 'Ciku',\n",
       " 48211: 'Clean arbuck',\n",
       " 261: 'Clean avantoe',\n",
       " 37953: 'Clean bloodweed',\n",
       " 265: 'Clean cadantine',\n",
       " 267: 'Clean dwarf weed',\n",
       " 21624: 'Clean fellstalk',\n",
       " 249: 'Clean guam',\n",
       " 255: 'Clean harralander',\n",
       " 259: 'Clean irit',\n",
       " 263: 'Clean kwuarm',\n",
       " 2481: 'Clean lantadyme',\n",
       " 251: 'Clean marrentill',\n",
       " 257: 'Clean ranarr',\n",
       " 3000: 'Clean snapdragon',\n",
       " 12172: 'Clean spirit weed',\n",
       " 253: 'Clean tarromin',\n",
       " 2998: 'Clean toadflax',\n",
       " 269: 'Clean torstol',\n",
       " 14854: 'Clean wergali',\n",
       " 12109: 'Cockatrice egg',\n",
       " 5976: 'Coconut',\n",
       " 5935: 'Coconut milk',\n",
       " 6693: 'Crushed nest',\n",
       " 32843: 'Crystal flask',\n",
       " 4460: 'Cup of hot water',\n",
       " 4458: 'Cup of water',\n",
       " 9735: 'Desert goat horn',\n",
       " 48922: 'Dinosaur claws',\n",
       " 241: 'Dragon scale dust',\n",
       " 48771: 'Dragonfruit',\n",
       " 109: 'Dwarf weed potion (unf)',\n",
       " 221: 'Eye of newt',\n",
       " 43981: 'Fallfaced wool',\n",
       " 21628: 'Fellstalk potion (unf)',\n",
       " 9736: 'Goat horn dust',\n",
       " 48773: 'Golden dragonfruit',\n",
       " 48243: 'Grimy arbuck',\n",
       " 211: 'Grimy avantoe',\n",
       " 37975: 'Grimy bloodweed',\n",
       " 215: 'Grimy cadantine',\n",
       " 217: 'Grimy dwarf weed',\n",
       " 21626: 'Grimy fellstalk',\n",
       " 199: 'Grimy guam',\n",
       " 205: 'Grimy harralander',\n",
       " 209: 'Grimy irit',\n",
       " 213: 'Grimy kwuarm',\n",
       " 2485: 'Grimy lantadyme',\n",
       " 201: 'Grimy marrentill',\n",
       " 207: 'Grimy ranarr',\n",
       " 3051: 'Grimy snapdragon',\n",
       " 12174: 'Grimy spirit weed',\n",
       " 203: 'Grimy tarromin',\n",
       " 3049: 'Grimy toadflax',\n",
       " 219: 'Grimy torstol',\n",
       " 14836: 'Grimy wergali',\n",
       " 55697: 'Ground miasma rune',\n",
       " 9594: 'Ground mud runes',\n",
       " 91: 'Guam potion (unf)',\n",
       " 48588: 'Guarana',\n",
       " 7658: 'Guthix balance (unf)',\n",
       " 7652: 'Guthix balance (unf)',\n",
       " 7656: 'Guthix balance (unf)',\n",
       " 7654: 'Guthix balance (unf)',\n",
       " 32947: 'Harmony moss',\n",
       " 97: 'Harralander potion (unf)',\n",
       " 48575: 'Inert adrenaline crystal',\n",
       " 101: 'Irit potion (unf)',\n",
       " 247: 'Jangerberries',\n",
       " 19996: 'Juju vial',\n",
       " 19994: 'Juju vial of water',\n",
       " 10111: 'Kebbit teeth dust',\n",
       " 105: 'Kwuarm potion (unf)',\n",
       " 2483: 'Lantadyme potion (unf)',\n",
       " 11330: 'Leaping salmon',\n",
       " 11332: 'Leaping sturgeon',\n",
       " 11328: 'Leaping trout',\n",
       " 225: 'Limpwurt root',\n",
       " 48582: 'Lychee',\n",
       " 48580: 'Mango',\n",
       " 93: 'Marrentill potion (unf)',\n",
       " 10915: 'Mixture - step 1 (1)',\n",
       " 10913: 'Mixture - step 1 (2)',\n",
       " 10911: 'Mixture - step 1 (3)',\n",
       " 10909: 'Mixture - step 1 (4)',\n",
       " 10923: 'Mixture - step 2 (1)',\n",
       " 10921: 'Mixture - step 2 (2)',\n",
       " 10919: 'Mixture - step 2 (3)',\n",
       " 10917: 'Mixture - step 2 (4)',\n",
       " 21622: 'Morchella mushroom',\n",
       " 2970: 'Mort myre fungus',\n",
       " 43995: 'Mycelial webbing',\n",
       " 10937: 'Nail beast nails',\n",
       " 6018: 'Poison ivy berries',\n",
       " 48921: 'Poison slime',\n",
       " 3138: 'Potato cactus',\n",
       " 23191: 'Potion flask',\n",
       " 48960: 'Powerburst vial',\n",
       " 48962: 'Primal extract',\n",
       " 43985: 'Rabbit teeth',\n",
       " 99: 'Ranarr potion (unf)',\n",
       " 223: \"Red spiders' eggs\",\n",
       " 11324: 'Roe',\n",
       " 4840: \"Rogue's purse potion (unf)\",\n",
       " 7650: 'Silver dust',\n",
       " 3004: 'Snapdragon potion (unf)',\n",
       " 231: 'Snape grass',\n",
       " 48923: 'Spark chitin',\n",
       " 43987: 'Spider fangs',\n",
       " 43997: 'Spider venom',\n",
       " 12181: 'Spirit weed potion (unf)',\n",
       " 43977: 'Springsheared wool',\n",
       " 48712: 'Stinkfly',\n",
       " 43975: 'Summerdown wool',\n",
       " 1939: 'Swamp tar',\n",
       " 2150: 'Swamp toad',\n",
       " 95: 'Tarromin potion (unf)',\n",
       " 2152: \"Toad's legs\",\n",
       " 3002: 'Toadflax potion (unf)',\n",
       " 48711: 'Tombshroom',\n",
       " 111: 'Torstol potion (unf)',\n",
       " 237: 'Unicorn horn',\n",
       " 235: 'Unicorn horn dust',\n",
       " 3325: 'Vampyre dust',\n",
       " 229: 'Vial',\n",
       " 227: 'Vial of water',\n",
       " 14856: 'Wergali potion (unf)',\n",
       " 239: 'White berries',\n",
       " 28253: 'Wine of Guthix',\n",
       " 28256: 'Wine of Saradomin',\n",
       " 245: 'Wine of Zamorak',\n",
       " 43979: 'Winterwold wool',\n",
       " 43989: 'Yak milk',\n",
       " 43991: 'Yak tuft',\n",
       " 43983: 'Zygomite fruit'}"
      ]
     },
     "metadata": {},
     "output_type": "display_data"
    }
   ],
   "source": [
    "# print(f\"Item id dictionary ({len(item_dict_list)} entries):\")\n",
    "# display(item_dict_list)"
   ]
  },
  {
   "cell_type": "markdown",
   "metadata": {},
   "source": [
    "##  Retrieving item GE prices from API"
   ]
  },
  {
   "cell_type": "code",
   "execution_count": 113,
   "metadata": {},
   "outputs": [
    {
     "name": "stdout",
     "output_type": "stream",
     "text": [
      "Historical GE prices request endpoint: https://api.weirdgloop.org/exchange/history/rs/all\n"
     ]
    }
   ],
   "source": [
    "# The RS3 Wiki uses Weird Gloop for their API, and includes support for retrieving their stored Grand Exchange data.\n",
    "# We can avoid request limitations with Jagex's own Grand Exchange API, and get all historical data.\n",
    "request_prices_base = f\"https://api.weirdgloop.org/exchange/history/{game_base}/{data_filter}\"\n",
    "print(f\"Historical GE prices request endpoint: {request_prices_base}\")"
   ]
  },
  {
   "cell_type": "code",
   "execution_count": 118,
   "metadata": {},
   "outputs": [],
   "source": [
    "def get_historical_prices(item_filter):\n",
    "    r_prices = requests.get(request_prices_base, params = {\"id\": item_filter})\n",
    "    if show_debug:\n",
    "        print(f\"Status of item {item_filter} ({item_dict_list[item_filter]}):{r_prices.status_code}\")\n",
    "    return r_prices.json()[f\"{item_filter}\"]"
   ]
  },
  {
   "cell_type": "code",
   "execution_count": 119,
   "metadata": {},
   "outputs": [
    {
     "name": "stdout",
     "output_type": "stream",
     "text": [
      "Status of item 52937 (Abyssal flesh):200\n",
      "Status of item 39067 (Adrenaline crystal):200\n",
      "Status of item 48241 (Arbuck potion (unf)):200\n",
      "Status of item 592 (Ashes):200\n",
      "Status of item 103 (Avantoe potion (unf)):200\n",
      "Status of item 48578 (Avocado):200\n",
      "Status of item 48925 (Beak snot):200\n",
      "Status of item 37973 (Bloodweed potion (unf)):200\n",
      "Status of item 243 (Blue dragon scale):200\n",
      "Status of item 48961 (Bomb vial):200\n",
      "Status of item 48926 (Bottled dinosaur roar):200\n",
      "Status of item 4456 (Bowl of hot water):200\n",
      "Status of item 43993 (Bull horns):200\n",
      "Status of item 6016 (Cactus spine):200\n",
      "Status of item 107 (Cadantine potion (unf)):200\n",
      "Status of item 48586 (Carambola):200\n",
      "Status of item 11326 (Caviar):200\n",
      "Status of item 43973 (Chinchompa residue):200\n",
      "Status of item 48584 (Ciku):200\n",
      "Status of item 48211 (Clean arbuck):200\n",
      "Status of item 261 (Clean avantoe):200\n",
      "Status of item 37953 (Clean bloodweed):200\n",
      "Status of item 265 (Clean cadantine):200\n",
      "Status of item 267 (Clean dwarf weed):200\n",
      "Status of item 21624 (Clean fellstalk):200\n",
      "Status of item 249 (Clean guam):200\n",
      "Status of item 255 (Clean harralander):200\n",
      "Status of item 259 (Clean irit):200\n",
      "Status of item 263 (Clean kwuarm):200\n",
      "Status of item 2481 (Clean lantadyme):200\n",
      "Status of item 251 (Clean marrentill):200\n",
      "Status of item 257 (Clean ranarr):200\n",
      "Status of item 3000 (Clean snapdragon):200\n",
      "Status of item 12172 (Clean spirit weed):200\n",
      "Status of item 253 (Clean tarromin):200\n",
      "Status of item 2998 (Clean toadflax):200\n",
      "Status of item 269 (Clean torstol):200\n",
      "Status of item 14854 (Clean wergali):200\n",
      "Status of item 12109 (Cockatrice egg):200\n",
      "Status of item 5976 (Coconut):200\n",
      "Status of item 5935 (Coconut milk):200\n",
      "Status of item 6693 (Crushed nest):200\n",
      "Status of item 32843 (Crystal flask):200\n",
      "Status of item 4460 (Cup of hot water):200\n",
      "Status of item 4458 (Cup of water):200\n",
      "Status of item 9735 (Desert goat horn):200\n",
      "Status of item 48922 (Dinosaur claws):200\n",
      "Status of item 241 (Dragon scale dust):200\n",
      "Status of item 48771 (Dragonfruit):200\n",
      "Status of item 109 (Dwarf weed potion (unf)):200\n",
      "Status of item 221 (Eye of newt):200\n",
      "Status of item 43981 (Fallfaced wool):200\n",
      "Status of item 21628 (Fellstalk potion (unf)):200\n",
      "Status of item 9736 (Goat horn dust):200\n",
      "Status of item 48773 (Golden dragonfruit):200\n",
      "Status of item 48243 (Grimy arbuck):200\n",
      "Status of item 211 (Grimy avantoe):200\n",
      "Status of item 37975 (Grimy bloodweed):200\n",
      "Status of item 215 (Grimy cadantine):200\n",
      "Status of item 217 (Grimy dwarf weed):200\n",
      "Status of item 21626 (Grimy fellstalk):200\n",
      "Status of item 199 (Grimy guam):200\n",
      "Status of item 205 (Grimy harralander):200\n",
      "Status of item 209 (Grimy irit):200\n",
      "Status of item 213 (Grimy kwuarm):200\n",
      "Status of item 2485 (Grimy lantadyme):200\n",
      "Status of item 201 (Grimy marrentill):200\n",
      "Status of item 207 (Grimy ranarr):200\n",
      "Status of item 3051 (Grimy snapdragon):200\n",
      "Status of item 12174 (Grimy spirit weed):200\n",
      "Status of item 203 (Grimy tarromin):200\n",
      "Status of item 3049 (Grimy toadflax):200\n",
      "Status of item 219 (Grimy torstol):200\n",
      "Status of item 14836 (Grimy wergali):200\n",
      "Status of item 55697 (Ground miasma rune):200\n",
      "Status of item 9594 (Ground mud runes):200\n",
      "Status of item 91 (Guam potion (unf)):200\n",
      "Status of item 48588 (Guarana):200\n",
      "Status of item 7658 (Guthix balance (unf)):200\n",
      "Status of item 7652 (Guthix balance (unf)):200\n",
      "Status of item 7656 (Guthix balance (unf)):200\n",
      "Status of item 7654 (Guthix balance (unf)):200\n",
      "Status of item 32947 (Harmony moss):200\n",
      "Status of item 97 (Harralander potion (unf)):200\n",
      "Status of item 48575 (Inert adrenaline crystal):200\n",
      "Status of item 101 (Irit potion (unf)):200\n",
      "Status of item 247 (Jangerberries):200\n",
      "Status of item 19996 (Juju vial):200\n",
      "Status of item 19994 (Juju vial of water):200\n",
      "Status of item 10111 (Kebbit teeth dust):200\n",
      "Status of item 105 (Kwuarm potion (unf)):200\n",
      "Status of item 2483 (Lantadyme potion (unf)):200\n",
      "Status of item 11330 (Leaping salmon):200\n",
      "Status of item 11332 (Leaping sturgeon):200\n",
      "Status of item 11328 (Leaping trout):200\n",
      "Status of item 225 (Limpwurt root):200\n",
      "Status of item 48582 (Lychee):200\n",
      "Status of item 48580 (Mango):200\n",
      "Status of item 93 (Marrentill potion (unf)):200\n",
      "Status of item 10915 (Mixture - step 1 (1)):200\n",
      "Status of item 10913 (Mixture - step 1 (2)):200\n",
      "Status of item 10911 (Mixture - step 1 (3)):200\n",
      "Status of item 10909 (Mixture - step 1 (4)):200\n",
      "Status of item 10923 (Mixture - step 2 (1)):200\n",
      "Status of item 10921 (Mixture - step 2 (2)):200\n",
      "Status of item 10919 (Mixture - step 2 (3)):200\n",
      "Status of item 10917 (Mixture - step 2 (4)):200\n",
      "Status of item 21622 (Morchella mushroom):200\n",
      "Status of item 2970 (Mort myre fungus):200\n",
      "Status of item 43995 (Mycelial webbing):200\n",
      "Status of item 10937 (Nail beast nails):200\n",
      "Status of item 6018 (Poison ivy berries):200\n",
      "Status of item 48921 (Poison slime):200\n",
      "Status of item 3138 (Potato cactus):200\n",
      "Status of item 23191 (Potion flask):200\n",
      "Status of item 48960 (Powerburst vial):200\n",
      "Status of item 48962 (Primal extract):200\n",
      "Status of item 43985 (Rabbit teeth):200\n",
      "Status of item 99 (Ranarr potion (unf)):200\n",
      "Status of item 223 (Red spiders' eggs):200\n",
      "Status of item 11324 (Roe):200\n",
      "Status of item 4840 (Rogue's purse potion (unf)):200\n",
      "Status of item 7650 (Silver dust):200\n",
      "Status of item 3004 (Snapdragon potion (unf)):200\n",
      "Status of item 231 (Snape grass):200\n",
      "Status of item 48923 (Spark chitin):200\n",
      "Status of item 43987 (Spider fangs):200\n",
      "Status of item 43997 (Spider venom):200\n",
      "Status of item 12181 (Spirit weed potion (unf)):200\n",
      "Status of item 43977 (Springsheared wool):200\n",
      "Status of item 48712 (Stinkfly):200\n",
      "Status of item 43975 (Summerdown wool):200\n",
      "Status of item 1939 (Swamp tar):200\n",
      "Status of item 2150 (Swamp toad):200\n",
      "Status of item 95 (Tarromin potion (unf)):200\n",
      "Status of item 2152 (Toad's legs):200\n",
      "Status of item 3002 (Toadflax potion (unf)):200\n",
      "Status of item 48711 (Tombshroom):200\n",
      "Status of item 111 (Torstol potion (unf)):200\n",
      "Status of item 237 (Unicorn horn):200\n",
      "Status of item 235 (Unicorn horn dust):200\n",
      "Status of item 3325 (Vampyre dust):200\n",
      "Status of item 229 (Vial):200\n",
      "Status of item 227 (Vial of water):200\n",
      "Status of item 14856 (Wergali potion (unf)):200\n",
      "Status of item 239 (White berries):200\n",
      "Status of item 28253 (Wine of Guthix):200\n",
      "Status of item 28256 (Wine of Saradomin):200\n",
      "Status of item 245 (Wine of Zamorak):200\n",
      "Status of item 43979 (Winterwold wool):200\n",
      "Status of item 43989 (Yak milk):200\n",
      "Status of item 43991 (Yak tuft):200\n",
      "Status of item 43983 (Zygomite fruit):200\n"
     ]
    }
   ],
   "source": [
    "ge_prices = []\n",
    "for item_id_entry in item_dict_list.keys():\n",
    "    ge_prices.extend(get_historical_prices(item_id_entry))"
   ]
  },
  {
   "cell_type": "code",
   "execution_count": null,
   "metadata": {},
   "outputs": [],
   "source": [
    "#display(ge_prices)"
   ]
  },
  {
   "cell_type": "markdown",
   "metadata": {},
   "source": [
    "## Consolidate data into dataframe"
   ]
  },
  {
   "cell_type": "code",
   "execution_count": 123,
   "metadata": {},
   "outputs": [],
   "source": [
    "# Convert our price list of dictionaries into a Pandas Dataframe.\n",
    "ge_df = pd.DataFrame(ge_prices)"
   ]
  },
  {
   "cell_type": "code",
   "execution_count": 125,
   "metadata": {},
   "outputs": [
    {
     "data": {
      "text/html": [
       "<div>\n",
       "<style scoped>\n",
       "    .dataframe tbody tr th:only-of-type {\n",
       "        vertical-align: middle;\n",
       "    }\n",
       "\n",
       "    .dataframe tbody tr th {\n",
       "        vertical-align: top;\n",
       "    }\n",
       "\n",
       "    .dataframe thead th {\n",
       "        text-align: right;\n",
       "    }\n",
       "</style>\n",
       "<table border=\"1\" class=\"dataframe\">\n",
       "  <thead>\n",
       "    <tr style=\"text-align: right;\">\n",
       "      <th></th>\n",
       "      <th>id</th>\n",
       "      <th>price</th>\n",
       "      <th>volume</th>\n",
       "      <th>timestamp</th>\n",
       "    </tr>\n",
       "  </thead>\n",
       "  <tbody>\n",
       "    <tr>\n",
       "      <th>0</th>\n",
       "      <td>52937</td>\n",
       "      <td>1500</td>\n",
       "      <td>NaN</td>\n",
       "      <td>1630540800000</td>\n",
       "    </tr>\n",
       "    <tr>\n",
       "      <th>1</th>\n",
       "      <td>52937</td>\n",
       "      <td>1500</td>\n",
       "      <td>NaN</td>\n",
       "      <td>1630627200000</td>\n",
       "    </tr>\n",
       "    <tr>\n",
       "      <th>2</th>\n",
       "      <td>52937</td>\n",
       "      <td>1500</td>\n",
       "      <td>NaN</td>\n",
       "      <td>1630713600000</td>\n",
       "    </tr>\n",
       "    <tr>\n",
       "      <th>3</th>\n",
       "      <td>52937</td>\n",
       "      <td>1500</td>\n",
       "      <td>NaN</td>\n",
       "      <td>1630800000000</td>\n",
       "    </tr>\n",
       "    <tr>\n",
       "      <th>4</th>\n",
       "      <td>52937</td>\n",
       "      <td>1500</td>\n",
       "      <td>NaN</td>\n",
       "      <td>1630886400000</td>\n",
       "    </tr>\n",
       "    <tr>\n",
       "      <th>...</th>\n",
       "      <td>...</td>\n",
       "      <td>...</td>\n",
       "      <td>...</td>\n",
       "      <td>...</td>\n",
       "    </tr>\n",
       "    <tr>\n",
       "      <th>722550</th>\n",
       "      <td>43983</td>\n",
       "      <td>502</td>\n",
       "      <td>14871.0</td>\n",
       "      <td>1721220601000</td>\n",
       "    </tr>\n",
       "    <tr>\n",
       "      <th>722551</th>\n",
       "      <td>43983</td>\n",
       "      <td>502</td>\n",
       "      <td>27393.0</td>\n",
       "      <td>1721328723000</td>\n",
       "    </tr>\n",
       "    <tr>\n",
       "      <th>722552</th>\n",
       "      <td>43983</td>\n",
       "      <td>483</td>\n",
       "      <td>9321.0</td>\n",
       "      <td>1721425246000</td>\n",
       "    </tr>\n",
       "    <tr>\n",
       "      <th>722553</th>\n",
       "      <td>43983</td>\n",
       "      <td>483</td>\n",
       "      <td>6821.0</td>\n",
       "      <td>1721492896000</td>\n",
       "    </tr>\n",
       "    <tr>\n",
       "      <th>722554</th>\n",
       "      <td>43983</td>\n",
       "      <td>483</td>\n",
       "      <td>12699.0</td>\n",
       "      <td>1721530986000</td>\n",
       "    </tr>\n",
       "  </tbody>\n",
       "</table>\n",
       "<p>722555 rows × 4 columns</p>\n",
       "</div>"
      ],
      "text/plain": [
       "           id  price   volume      timestamp\n",
       "0       52937   1500      NaN  1630540800000\n",
       "1       52937   1500      NaN  1630627200000\n",
       "2       52937   1500      NaN  1630713600000\n",
       "3       52937   1500      NaN  1630800000000\n",
       "4       52937   1500      NaN  1630886400000\n",
       "...       ...    ...      ...            ...\n",
       "722550  43983    502  14871.0  1721220601000\n",
       "722551  43983    502  27393.0  1721328723000\n",
       "722552  43983    483   9321.0  1721425246000\n",
       "722553  43983    483   6821.0  1721492896000\n",
       "722554  43983    483  12699.0  1721530986000\n",
       "\n",
       "[722555 rows x 4 columns]"
      ]
     },
     "metadata": {},
     "output_type": "display_data"
    }
   ],
   "source": [
    "#display(ge_df)"
   ]
  },
  {
   "cell_type": "markdown",
   "metadata": {},
   "source": [
    "# Data supplementation"
   ]
  },
  {
   "cell_type": "code",
   "execution_count": 128,
   "metadata": {},
   "outputs": [
    {
     "data": {
      "text/plain": [
       "id           0.000000\n",
       "price        0.000000\n",
       "volume       0.850994\n",
       "timestamp    0.000000\n",
       "dtype: float64"
      ]
     },
     "execution_count": 128,
     "metadata": {},
     "output_type": "execute_result"
    }
   ],
   "source": [
    "# Checking how many null values are there - will most likely be within the volume.\n",
    "ge_df.isna().sum() / len(ge_df)"
   ]
  },
  {
   "cell_type": "markdown",
   "metadata": {},
   "source": [
    "## Improve human readability"
   ]
  },
  {
   "cell_type": "code",
   "execution_count": 139,
   "metadata": {},
   "outputs": [],
   "source": [
    "# Convert unix timestamp to date.\n",
    "def unix_to_date(ts):\n",
    "    return datetime.datetime.fromtimestamp(ts/1000, datetime.UTC).strftime('%Y-%m-%d')"
   ]
  },
  {
   "cell_type": "code",
   "execution_count": 212,
   "metadata": {},
   "outputs": [],
   "source": [
    "# Determine if a unix timestamp represents a weekend or weekday.\n",
    "def unix_is_weekday(ts):\n",
    "    return 1 if datetime.datetime.fromtimestamp(ts/1000, datetime.UTC).weekday() < 5 else 0"
   ]
  },
  {
   "cell_type": "code",
   "execution_count": 150,
   "metadata": {},
   "outputs": [],
   "source": [
    "# Adds name of item based on item id.\n",
    "def id_to_name(item_id):\n",
    "    return item_dict_list[int(item_id)]"
   ]
  },
  {
   "cell_type": "code",
   "execution_count": 213,
   "metadata": {},
   "outputs": [],
   "source": [
    "# Make human-readable date, item name, and whether or not said date is a weekday.\n",
    "ge_df[\"date\"] = ge_df['timestamp'].map(unix_to_date)\n",
    "ge_df[\"weekday\"] = ge_df['timestamp'].map(unix_is_weekday)\n",
    "ge_df[\"name\"] = ge_df['id'].map(id_to_name)"
   ]
  },
  {
   "cell_type": "markdown",
   "metadata": {},
   "source": [
    "## Add differenced time series"
   ]
  },
  {
   "cell_type": "code",
   "execution_count": 168,
   "metadata": {},
   "outputs": [],
   "source": [
    "# Get differenced data by 1 day, 1 week, 2 weeks, and ~ 1 month. Great for time series.\n",
    "ge_df[\"diff_1_day\"] = ge_df.groupby(\"id\")[\"price\"].diff(1)\n",
    "ge_df[\"diff_7_day\"] = ge_df.groupby(\"id\")[\"price\"].diff(7)\n",
    "ge_df[\"diff_14_day\"] = ge_df.groupby(\"id\")[\"price\"].diff(14)\n",
    "ge_df[\"diff_30_day\"] = ge_df.groupby(\"id\")[\"price\"].diff(30)"
   ]
  },
  {
   "cell_type": "markdown",
   "metadata": {},
   "source": [
    "## Add moving average time series"
   ]
  },
  {
   "cell_type": "code",
   "execution_count": 206,
   "metadata": {},
   "outputs": [],
   "source": [
    "# Get 1 week, 2 week, and ~1 month moving average.\n",
    "ge_df[\"avg_7_day\"] = ge_df.groupby(\"name\")[\"price\"].rolling(7).mean().reset_index(drop=True)\n",
    "ge_df[\"avg_14_day\"] = ge_df.groupby(\"name\")[\"price\"].rolling(14).mean().reset_index(drop=True)\n",
    "ge_df[\"avg_30_day\"] = ge_df.groupby(\"name\")[\"price\"].rolling(30).mean().reset_index(drop=True)"
   ]
  },
  {
   "cell_type": "markdown",
   "metadata": {},
   "source": [
    "## Add social media sourced information (future update)"
   ]
  },
  {
   "cell_type": "code",
   "execution_count": 218,
   "metadata": {},
   "outputs": [],
   "source": [
    "# The RS3 Wiki uses Weird Gloop for their API; this endpoint gets all social media information.\n",
    "request_socials_base = f\"https://api.weirdgloop.org/runescape/social\"\n",
    "halt = False # Used in while loop - API response includes if there are additional pages left.\n",
    "max_iter = 100 # Failsafe."
   ]
  },
  {
   "cell_type": "code",
   "execution_count": 222,
   "metadata": {},
   "outputs": [
    {
     "name": "stdout",
     "output_type": "stream",
     "text": [
      "Status of page 1: 200\n",
      "Status of page 2: 200\n",
      "Status of page 3: 200\n",
      "Status of page 4: 200\n",
      "Status of page 5: 200\n",
      "Status of page 6: 200\n",
      "Status of page 7: 200\n",
      "Status of page 8: 200\n",
      "Status of page 9: 200\n",
      "Status of page 10: 200\n",
      "Status of page 11: 200\n",
      "Status of page 12: 200\n",
      "Status of page 13: 200\n",
      "Status of page 14: 200\n",
      "Status of page 15: 200\n",
      "Status of page 16: 200\n",
      "Status of page 17: 200\n",
      "Status of page 18: 200\n",
      "Status of page 19: 200\n",
      "Status of page 20: 200\n",
      "Status of page 21: 200\n",
      "Status of page 22: 200\n",
      "Status of page 23: 200\n",
      "Status of page 24: 200\n",
      "Status of page 25: 200\n",
      "Status of page 26: 200\n",
      "Status of page 27: 200\n",
      "Status of page 28: 200\n",
      "Status of page 29: 200\n",
      "Status of page 30: 200\n",
      "Status of page 31: 200\n",
      "Status of page 32: 200\n",
      "Status of page 33: 200\n",
      "Status of page 34: 200\n",
      "Status of page 35: 200\n",
      "Status of page 36: 200\n",
      "Status of page 37: 200\n",
      "Status of page 38: 200\n",
      "Status of page 39: 200\n",
      "Status of page 40: 200\n",
      "Status of page 41: 200\n",
      "Status of page 42: 200\n",
      "Status of page 43: 200\n",
      "Status of page 44: 200\n",
      "Status of page 45: 200\n",
      "Status of page 46: 200\n",
      "Status of page 47: 200\n",
      "Status of page 48: 200\n",
      "Status of page 49: 200\n",
      "Status of page 50: 200\n",
      "Status of page 51: 200\n",
      "Status of page 52: 200\n",
      "Status of page 53: 200\n",
      "Status of page 54: 200\n",
      "Status of page 55: 200\n",
      "Status of page 56: 200\n",
      "Status of page 57: 200\n",
      "Status of page 58: 200\n",
      "Status of page 59: 200\n",
      "Status of page 60: 200\n",
      "Status of page 61: 200\n",
      "Status of page 62: 200\n",
      "Status of page 63: 200\n",
      "Status of page 64: 200\n",
      "Status of page 65: 200\n",
      "Status of page 66: 200\n",
      "Status of page 67: 200\n",
      "Status of page 68: 200\n",
      "Status of page 69: 200\n",
      "Status of page 70: 200\n",
      "Status of page 71: 200\n",
      "Status of page 72: 200\n",
      "Status of page 73: 200\n",
      "Status of page 74: 200\n",
      "Status of page 75: 200\n"
     ]
    }
   ],
   "source": [
    "page = 1\n",
    "social_dict_list = []\n",
    "\n",
    "while halt != True and page <= max_iter: # As long as we haven't halted the process and page less than the max allowed\n",
    "    r_social = requests.get(request_socials_base, params = {\"page\": page}) # Request social media info from API.\n",
    "    \n",
    "    if show_debug:\n",
    "        print(f\"Status of page {page}: {r_social.status_code}\")\n",
    "    page += 1\n",
    "\n",
    "    if r_social.json()[\"pagination\"][\"has_more\"] != True: # If the response tells use there's no more pages, halt the loop.\n",
    "        halt = True\n",
    "\n",
    "    social_dict_list.extend(r_social.json()[\"data\"]) # Add dictionaries to our list."
   ]
  },
  {
   "cell_type": "code",
   "execution_count": 224,
   "metadata": {},
   "outputs": [],
   "source": [
    "# Get social media list of dicts into a dataframe.\n",
    "social_df = pd.DataFrame(social_dict_list)"
   ]
  },
  {
   "cell_type": "code",
   "execution_count": 280,
   "metadata": {},
   "outputs": [],
   "source": [
    "# Convert odd datetime format to string, and get date.\n",
    "def datetime_to_string(dt):\n",
    "    return str(dt)[:10]"
   ]
  },
  {
   "cell_type": "code",
   "execution_count": 282,
   "metadata": {},
   "outputs": [],
   "source": [
    "# Create string version of date to link social media info to specific dates.\n",
    "social_df[\"date\"] = social_df[\"dateAdded\"].map(datetime_to_string)"
   ]
  },
  {
   "cell_type": "code",
   "execution_count": 260,
   "metadata": {},
   "outputs": [],
   "source": [
    "# Enrich social media history dataframe based on title of media item:\n",
    "#   Launch usually indicates a new release.\n",
    "#   Bosses are big drop sources of items, and may affect our items of interest.\n",
    "#   Quests show info about an upcoming Runescape quest. These quests may unlock new things which require our items of interest.\n",
    "#   Event usually indicates a new upcoming events.\n",
    "#   Double XP tells players when the next Double XP is coming up, and is a known market mover.\n",
    "#   Update is more general, but can include information on changes for any of the above info... or something irrelevant.\n",
    "social_df[\"launch_update\"] = social_df[\"title\"].apply(lambda x: \"Launch\" in x if x is not None else False)\n",
    "social_df[\"boss_update\"] = social_df[\"title\"].apply(lambda x: \"Boss\" in x if x is not None else False)\n",
    "social_df[\"quest_update\"] = social_df[\"title\"].apply(lambda x: \"Quest\" in x if x is not None else False)\n",
    "social_df[\"event_update\"] = social_df[\"title\"].apply(lambda x: \"Event\" in x if x is not None else False)\n",
    "social_df[\"dxp_update\"] = social_df[\"title\"].apply(lambda x: \"Double XP\" in x if x is not None else False)\n",
    "social_df[\"general_update\"] = social_df[\"title\"].apply(lambda x: \"Update\" in x if x is not None else False)"
   ]
  },
  {
   "cell_type": "code",
   "execution_count": 286,
   "metadata": {},
   "outputs": [],
   "source": [
    "# Get cumulative counts of all social media update types.\n",
    "social_df[\"launch_cumul\"] = social_df.loc[::-1, 'launch_update'].cumsum()\n",
    "social_df[\"boss_cumul\"] = social_df.loc[::-1, 'boss_update'].cumsum()\n",
    "social_df[\"quest_cumul\"] = social_df.loc[::-1, 'quest_update'].cumsum()\n",
    "social_df[\"event_cumul\"] = social_df.loc[::-1, 'event_update'].cumsum()\n",
    "social_df[\"dxp_cumul\"] = social_df.loc[::-1, 'dxp_update'].cumsum()\n",
    "social_df[\"general_cumul\"] = social_df.loc[::-1, 'general_update'].cumsum()"
   ]
  },
  {
   "cell_type": "code",
   "execution_count": 287,
   "metadata": {},
   "outputs": [],
   "source": [
    "social_cumul_df = social_df[['date', 'launch_update', 'quest_update', 'event_update', 'dxp_update', \n",
    "                            'general_update', 'boss_update', 'launch_cumul', 'boss_cumul','quest_cumul', \n",
    "                            'event_cumul', 'dxp_cumul', 'general_cumul']]\n",
    "\n",
    "#display(social_cumul_df)"
   ]
  },
  {
   "cell_type": "markdown",
   "metadata": {},
   "source": [
    "# View results"
   ]
  },
  {
   "cell_type": "code",
   "execution_count": 214,
   "metadata": {},
   "outputs": [
    {
     "data": {
      "text/html": [
       "<div>\n",
       "<style scoped>\n",
       "    .dataframe tbody tr th:only-of-type {\n",
       "        vertical-align: middle;\n",
       "    }\n",
       "\n",
       "    .dataframe tbody tr th {\n",
       "        vertical-align: top;\n",
       "    }\n",
       "\n",
       "    .dataframe thead th {\n",
       "        text-align: right;\n",
       "    }\n",
       "</style>\n",
       "<table border=\"1\" class=\"dataframe\">\n",
       "  <thead>\n",
       "    <tr style=\"text-align: right;\">\n",
       "      <th></th>\n",
       "      <th>id</th>\n",
       "      <th>price</th>\n",
       "      <th>volume</th>\n",
       "      <th>timestamp</th>\n",
       "      <th>date</th>\n",
       "      <th>name</th>\n",
       "      <th>diff_1_day</th>\n",
       "      <th>diff_7_day</th>\n",
       "      <th>diff_14_day</th>\n",
       "      <th>diff_30_day</th>\n",
       "      <th>avg_7_day</th>\n",
       "      <th>avg_14_day</th>\n",
       "      <th>avg_30_day</th>\n",
       "      <th>weekday</th>\n",
       "    </tr>\n",
       "  </thead>\n",
       "  <tbody>\n",
       "    <tr>\n",
       "      <th>0</th>\n",
       "      <td>52937</td>\n",
       "      <td>1500</td>\n",
       "      <td>NaN</td>\n",
       "      <td>1630540800000</td>\n",
       "      <td>2021-09-02</td>\n",
       "      <td>Abyssal flesh</td>\n",
       "      <td>NaN</td>\n",
       "      <td>NaN</td>\n",
       "      <td>NaN</td>\n",
       "      <td>NaN</td>\n",
       "      <td>NaN</td>\n",
       "      <td>NaN</td>\n",
       "      <td>NaN</td>\n",
       "      <td>1</td>\n",
       "    </tr>\n",
       "    <tr>\n",
       "      <th>1</th>\n",
       "      <td>52937</td>\n",
       "      <td>1500</td>\n",
       "      <td>NaN</td>\n",
       "      <td>1630627200000</td>\n",
       "      <td>2021-09-03</td>\n",
       "      <td>Abyssal flesh</td>\n",
       "      <td>0.0</td>\n",
       "      <td>NaN</td>\n",
       "      <td>NaN</td>\n",
       "      <td>NaN</td>\n",
       "      <td>NaN</td>\n",
       "      <td>NaN</td>\n",
       "      <td>NaN</td>\n",
       "      <td>1</td>\n",
       "    </tr>\n",
       "    <tr>\n",
       "      <th>2</th>\n",
       "      <td>52937</td>\n",
       "      <td>1500</td>\n",
       "      <td>NaN</td>\n",
       "      <td>1630713600000</td>\n",
       "      <td>2021-09-04</td>\n",
       "      <td>Abyssal flesh</td>\n",
       "      <td>0.0</td>\n",
       "      <td>NaN</td>\n",
       "      <td>NaN</td>\n",
       "      <td>NaN</td>\n",
       "      <td>NaN</td>\n",
       "      <td>NaN</td>\n",
       "      <td>NaN</td>\n",
       "      <td>0</td>\n",
       "    </tr>\n",
       "    <tr>\n",
       "      <th>3</th>\n",
       "      <td>52937</td>\n",
       "      <td>1500</td>\n",
       "      <td>NaN</td>\n",
       "      <td>1630800000000</td>\n",
       "      <td>2021-09-05</td>\n",
       "      <td>Abyssal flesh</td>\n",
       "      <td>0.0</td>\n",
       "      <td>NaN</td>\n",
       "      <td>NaN</td>\n",
       "      <td>NaN</td>\n",
       "      <td>NaN</td>\n",
       "      <td>NaN</td>\n",
       "      <td>NaN</td>\n",
       "      <td>0</td>\n",
       "    </tr>\n",
       "    <tr>\n",
       "      <th>4</th>\n",
       "      <td>52937</td>\n",
       "      <td>1500</td>\n",
       "      <td>NaN</td>\n",
       "      <td>1630886400000</td>\n",
       "      <td>2021-09-06</td>\n",
       "      <td>Abyssal flesh</td>\n",
       "      <td>0.0</td>\n",
       "      <td>NaN</td>\n",
       "      <td>NaN</td>\n",
       "      <td>NaN</td>\n",
       "      <td>NaN</td>\n",
       "      <td>NaN</td>\n",
       "      <td>NaN</td>\n",
       "      <td>1</td>\n",
       "    </tr>\n",
       "    <tr>\n",
       "      <th>...</th>\n",
       "      <td>...</td>\n",
       "      <td>...</td>\n",
       "      <td>...</td>\n",
       "      <td>...</td>\n",
       "      <td>...</td>\n",
       "      <td>...</td>\n",
       "      <td>...</td>\n",
       "      <td>...</td>\n",
       "      <td>...</td>\n",
       "      <td>...</td>\n",
       "      <td>...</td>\n",
       "      <td>...</td>\n",
       "      <td>...</td>\n",
       "      <td>...</td>\n",
       "    </tr>\n",
       "    <tr>\n",
       "      <th>722550</th>\n",
       "      <td>43983</td>\n",
       "      <td>502</td>\n",
       "      <td>14871.0</td>\n",
       "      <td>1721220601000</td>\n",
       "      <td>2024-07-17</td>\n",
       "      <td>Zygomite fruit</td>\n",
       "      <td>-12.0</td>\n",
       "      <td>-25.0</td>\n",
       "      <td>-20.0</td>\n",
       "      <td>-8.0</td>\n",
       "      <td>512.285714</td>\n",
       "      <td>515.857143</td>\n",
       "      <td>520.200000</td>\n",
       "      <td>1</td>\n",
       "    </tr>\n",
       "    <tr>\n",
       "      <th>722551</th>\n",
       "      <td>43983</td>\n",
       "      <td>502</td>\n",
       "      <td>27393.0</td>\n",
       "      <td>1721328723000</td>\n",
       "      <td>2024-07-18</td>\n",
       "      <td>Zygomite fruit</td>\n",
       "      <td>0.0</td>\n",
       "      <td>-12.0</td>\n",
       "      <td>-15.0</td>\n",
       "      <td>-8.0</td>\n",
       "      <td>510.571429</td>\n",
       "      <td>514.785714</td>\n",
       "      <td>519.933333</td>\n",
       "      <td>1</td>\n",
       "    </tr>\n",
       "    <tr>\n",
       "      <th>722552</th>\n",
       "      <td>43983</td>\n",
       "      <td>483</td>\n",
       "      <td>9321.0</td>\n",
       "      <td>1721425246000</td>\n",
       "      <td>2024-07-19</td>\n",
       "      <td>Zygomite fruit</td>\n",
       "      <td>-19.0</td>\n",
       "      <td>-31.0</td>\n",
       "      <td>-34.0</td>\n",
       "      <td>-41.0</td>\n",
       "      <td>506.142857</td>\n",
       "      <td>512.357143</td>\n",
       "      <td>518.566667</td>\n",
       "      <td>1</td>\n",
       "    </tr>\n",
       "    <tr>\n",
       "      <th>722553</th>\n",
       "      <td>43983</td>\n",
       "      <td>483</td>\n",
       "      <td>6821.0</td>\n",
       "      <td>1721492896000</td>\n",
       "      <td>2024-07-20</td>\n",
       "      <td>Zygomite fruit</td>\n",
       "      <td>0.0</td>\n",
       "      <td>-31.0</td>\n",
       "      <td>-33.0</td>\n",
       "      <td>-41.0</td>\n",
       "      <td>501.714286</td>\n",
       "      <td>510.000000</td>\n",
       "      <td>517.200000</td>\n",
       "      <td>0</td>\n",
       "    </tr>\n",
       "    <tr>\n",
       "      <th>722554</th>\n",
       "      <td>43983</td>\n",
       "      <td>483</td>\n",
       "      <td>12699.0</td>\n",
       "      <td>1721530986000</td>\n",
       "      <td>2024-07-21</td>\n",
       "      <td>Zygomite fruit</td>\n",
       "      <td>0.0</td>\n",
       "      <td>-31.0</td>\n",
       "      <td>-33.0</td>\n",
       "      <td>-41.0</td>\n",
       "      <td>497.285714</td>\n",
       "      <td>507.642857</td>\n",
       "      <td>515.833333</td>\n",
       "      <td>0</td>\n",
       "    </tr>\n",
       "  </tbody>\n",
       "</table>\n",
       "<p>722555 rows × 14 columns</p>\n",
       "</div>"
      ],
      "text/plain": [
       "           id  price   volume      timestamp        date            name  \\\n",
       "0       52937   1500      NaN  1630540800000  2021-09-02   Abyssal flesh   \n",
       "1       52937   1500      NaN  1630627200000  2021-09-03   Abyssal flesh   \n",
       "2       52937   1500      NaN  1630713600000  2021-09-04   Abyssal flesh   \n",
       "3       52937   1500      NaN  1630800000000  2021-09-05   Abyssal flesh   \n",
       "4       52937   1500      NaN  1630886400000  2021-09-06   Abyssal flesh   \n",
       "...       ...    ...      ...            ...         ...             ...   \n",
       "722550  43983    502  14871.0  1721220601000  2024-07-17  Zygomite fruit   \n",
       "722551  43983    502  27393.0  1721328723000  2024-07-18  Zygomite fruit   \n",
       "722552  43983    483   9321.0  1721425246000  2024-07-19  Zygomite fruit   \n",
       "722553  43983    483   6821.0  1721492896000  2024-07-20  Zygomite fruit   \n",
       "722554  43983    483  12699.0  1721530986000  2024-07-21  Zygomite fruit   \n",
       "\n",
       "        diff_1_day  diff_7_day  diff_14_day  diff_30_day   avg_7_day  \\\n",
       "0              NaN         NaN          NaN          NaN         NaN   \n",
       "1              0.0         NaN          NaN          NaN         NaN   \n",
       "2              0.0         NaN          NaN          NaN         NaN   \n",
       "3              0.0         NaN          NaN          NaN         NaN   \n",
       "4              0.0         NaN          NaN          NaN         NaN   \n",
       "...            ...         ...          ...          ...         ...   \n",
       "722550       -12.0       -25.0        -20.0         -8.0  512.285714   \n",
       "722551         0.0       -12.0        -15.0         -8.0  510.571429   \n",
       "722552       -19.0       -31.0        -34.0        -41.0  506.142857   \n",
       "722553         0.0       -31.0        -33.0        -41.0  501.714286   \n",
       "722554         0.0       -31.0        -33.0        -41.0  497.285714   \n",
       "\n",
       "        avg_14_day  avg_30_day  weekday  \n",
       "0              NaN         NaN        1  \n",
       "1              NaN         NaN        1  \n",
       "2              NaN         NaN        0  \n",
       "3              NaN         NaN        0  \n",
       "4              NaN         NaN        1  \n",
       "...            ...         ...      ...  \n",
       "722550  515.857143  520.200000        1  \n",
       "722551  514.785714  519.933333        1  \n",
       "722552  512.357143  518.566667        1  \n",
       "722553  510.000000  517.200000        0  \n",
       "722554  507.642857  515.833333        0  \n",
       "\n",
       "[722555 rows x 14 columns]"
      ]
     },
     "metadata": {},
     "output_type": "display_data"
    }
   ],
   "source": [
    "display(ge_df)"
   ]
  },
  {
   "cell_type": "markdown",
   "metadata": {},
   "source": [
    "# Export data"
   ]
  },
  {
   "cell_type": "code",
   "execution_count": 284,
   "metadata": {},
   "outputs": [],
   "source": [
    "#social_cumul_df.to_csv(\"social_info.csv\", index = False)"
   ]
  },
  {
   "cell_type": "code",
   "execution_count": 208,
   "metadata": {},
   "outputs": [
    {
     "name": "stdout",
     "output_type": "stream",
     "text": [
      "Data destination: c:\\Users\\yangs\\Documents\\Coding\\rs3-ml\\data\n",
      "Current date: 2024-07-21\n",
      "Final file location: c:\\Users\\yangs\\Documents\\Coding\\rs3-ml\\data\\ge-prices-2024-07-21.csv\n"
     ]
    }
   ],
   "source": [
    "data_dest = f\"{os.getcwd()}\\\\data\"\n",
    "print(f\"Data destination: {data_dest}\")\n",
    "\n",
    "today = datetime.date.today().strftime('%Y-%m-%d')\n",
    "print(f\"Current date: {today}\")\n",
    "\n",
    "filename = f\"ge-prices-{today}.csv\"\n",
    "print(f\"Final file location: {data_dest}\\\\{filename}\")"
   ]
  },
  {
   "cell_type": "code",
   "execution_count": 209,
   "metadata": {},
   "outputs": [],
   "source": [
    "# ge_df.to_csv(filename, index=False)  "
   ]
  },
  {
   "cell_type": "code",
   "execution_count": null,
   "metadata": {},
   "outputs": [],
   "source": []
  }
 ],
 "metadata": {
  "kernelspec": {
   "display_name": ".venv",
   "language": "python",
   "name": "python3"
  },
  "language_info": {
   "codemirror_mode": {
    "name": "ipython",
    "version": 3
   },
   "file_extension": ".py",
   "mimetype": "text/x-python",
   "name": "python",
   "nbconvert_exporter": "python",
   "pygments_lexer": "ipython3",
   "version": "3.12.4"
  }
 },
 "nbformat": 4,
 "nbformat_minor": 2
}
